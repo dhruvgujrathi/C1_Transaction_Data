{
 "cells": [
  {
   "cell_type": "markdown",
   "metadata": {
    "collapsed": true,
    "pycharm": {
     "name": "#%% md\n"
    }
   },
   "source": [
    "# Exploring the Dataset"
   ]
  },
  {
   "cell_type": "code",
   "execution_count": 7,
   "outputs": [],
   "source": [
    "import pandas as pd\n",
    "import seaborn as sns\n",
    "\n",
    "import os"
   ],
   "metadata": {
    "collapsed": false,
    "pycharm": {
     "name": "#%%\n"
    }
   }
  },
  {
   "cell_type": "code",
   "execution_count": 8,
   "outputs": [
    {
     "data": {
      "text/plain": "   accountNumber  customerId  creditLimit  availableMoney  \\\n0      737265056   737265056         5000          5000.0   \n1      737265056   737265056         5000          5000.0   \n2      737265056   737265056         5000          5000.0   \n3      737265056   737265056         5000          5000.0   \n4      830329091   830329091         5000          5000.0   \n\n   transactionDateTime  transactionAmount         merchantName acqCountry  \\\n0  2016-08-13T14:27:32              98.55                 Uber         US   \n1  2016-10-11T05:05:54              74.51          AMC #191138         US   \n2  2016-11-08T09:18:39               7.47           Play Store         US   \n3  2016-12-10T02:14:50               7.47           Play Store         US   \n4  2016-03-24T21:04:46              71.18  Tim Hortons #947751         US   \n\n  merchantCountryCode posEntryMode  ... echoBuffer currentBalance  \\\n0                  US           02  ...        NaN            0.0   \n1                  US           09  ...        NaN            0.0   \n2                  US           09  ...        NaN            0.0   \n3                  US           09  ...        NaN            0.0   \n4                  US           02  ...        NaN            0.0   \n\n  merchantCity merchantState merchantZip  cardPresent  posOnPremises  \\\n0          NaN           NaN         NaN        False            NaN   \n1          NaN           NaN         NaN         True            NaN   \n2          NaN           NaN         NaN        False            NaN   \n3          NaN           NaN         NaN        False            NaN   \n4          NaN           NaN         NaN         True            NaN   \n\n   recurringAuthInd expirationDateKeyInMatch  isFraud  \n0               NaN                    False    False  \n1               NaN                    False    False  \n2               NaN                    False    False  \n3               NaN                    False    False  \n4               NaN                    False    False  \n\n[5 rows x 29 columns]",
      "text/html": "<div>\n<style scoped>\n    .dataframe tbody tr th:only-of-type {\n        vertical-align: middle;\n    }\n\n    .dataframe tbody tr th {\n        vertical-align: top;\n    }\n\n    .dataframe thead th {\n        text-align: right;\n    }\n</style>\n<table border=\"1\" class=\"dataframe\">\n  <thead>\n    <tr style=\"text-align: right;\">\n      <th></th>\n      <th>accountNumber</th>\n      <th>customerId</th>\n      <th>creditLimit</th>\n      <th>availableMoney</th>\n      <th>transactionDateTime</th>\n      <th>transactionAmount</th>\n      <th>merchantName</th>\n      <th>acqCountry</th>\n      <th>merchantCountryCode</th>\n      <th>posEntryMode</th>\n      <th>...</th>\n      <th>echoBuffer</th>\n      <th>currentBalance</th>\n      <th>merchantCity</th>\n      <th>merchantState</th>\n      <th>merchantZip</th>\n      <th>cardPresent</th>\n      <th>posOnPremises</th>\n      <th>recurringAuthInd</th>\n      <th>expirationDateKeyInMatch</th>\n      <th>isFraud</th>\n    </tr>\n  </thead>\n  <tbody>\n    <tr>\n      <th>0</th>\n      <td>737265056</td>\n      <td>737265056</td>\n      <td>5000</td>\n      <td>5000.0</td>\n      <td>2016-08-13T14:27:32</td>\n      <td>98.55</td>\n      <td>Uber</td>\n      <td>US</td>\n      <td>US</td>\n      <td>02</td>\n      <td>...</td>\n      <td>NaN</td>\n      <td>0.0</td>\n      <td>NaN</td>\n      <td>NaN</td>\n      <td>NaN</td>\n      <td>False</td>\n      <td>NaN</td>\n      <td>NaN</td>\n      <td>False</td>\n      <td>False</td>\n    </tr>\n    <tr>\n      <th>1</th>\n      <td>737265056</td>\n      <td>737265056</td>\n      <td>5000</td>\n      <td>5000.0</td>\n      <td>2016-10-11T05:05:54</td>\n      <td>74.51</td>\n      <td>AMC #191138</td>\n      <td>US</td>\n      <td>US</td>\n      <td>09</td>\n      <td>...</td>\n      <td>NaN</td>\n      <td>0.0</td>\n      <td>NaN</td>\n      <td>NaN</td>\n      <td>NaN</td>\n      <td>True</td>\n      <td>NaN</td>\n      <td>NaN</td>\n      <td>False</td>\n      <td>False</td>\n    </tr>\n    <tr>\n      <th>2</th>\n      <td>737265056</td>\n      <td>737265056</td>\n      <td>5000</td>\n      <td>5000.0</td>\n      <td>2016-11-08T09:18:39</td>\n      <td>7.47</td>\n      <td>Play Store</td>\n      <td>US</td>\n      <td>US</td>\n      <td>09</td>\n      <td>...</td>\n      <td>NaN</td>\n      <td>0.0</td>\n      <td>NaN</td>\n      <td>NaN</td>\n      <td>NaN</td>\n      <td>False</td>\n      <td>NaN</td>\n      <td>NaN</td>\n      <td>False</td>\n      <td>False</td>\n    </tr>\n    <tr>\n      <th>3</th>\n      <td>737265056</td>\n      <td>737265056</td>\n      <td>5000</td>\n      <td>5000.0</td>\n      <td>2016-12-10T02:14:50</td>\n      <td>7.47</td>\n      <td>Play Store</td>\n      <td>US</td>\n      <td>US</td>\n      <td>09</td>\n      <td>...</td>\n      <td>NaN</td>\n      <td>0.0</td>\n      <td>NaN</td>\n      <td>NaN</td>\n      <td>NaN</td>\n      <td>False</td>\n      <td>NaN</td>\n      <td>NaN</td>\n      <td>False</td>\n      <td>False</td>\n    </tr>\n    <tr>\n      <th>4</th>\n      <td>830329091</td>\n      <td>830329091</td>\n      <td>5000</td>\n      <td>5000.0</td>\n      <td>2016-03-24T21:04:46</td>\n      <td>71.18</td>\n      <td>Tim Hortons #947751</td>\n      <td>US</td>\n      <td>US</td>\n      <td>02</td>\n      <td>...</td>\n      <td>NaN</td>\n      <td>0.0</td>\n      <td>NaN</td>\n      <td>NaN</td>\n      <td>NaN</td>\n      <td>True</td>\n      <td>NaN</td>\n      <td>NaN</td>\n      <td>False</td>\n      <td>False</td>\n    </tr>\n  </tbody>\n</table>\n<p>5 rows × 29 columns</p>\n</div>"
     },
     "execution_count": 8,
     "metadata": {},
     "output_type": "execute_result"
    }
   ],
   "source": [
    "df = pd.read_pickle('Data/pickles/dataset')\n",
    "\n",
    "df.head()"
   ],
   "metadata": {
    "collapsed": false,
    "pycharm": {
     "name": "#%%\n"
    }
   }
  },
  {
   "cell_type": "code",
   "execution_count": 9,
   "outputs": [
    {
     "data": {
      "text/plain": "'Dataset Dimensions: 786363x29'"
     },
     "execution_count": 9,
     "metadata": {},
     "output_type": "execute_result"
    }
   ],
   "source": [
    "\"Dataset Dimensions: {}x{}\".format(df.shape[0], df.shape[1])"
   ],
   "metadata": {
    "collapsed": false,
    "pycharm": {
     "name": "#%%\n"
    }
   }
  },
  {
   "cell_type": "markdown",
   "source": [
    "## Checking for nans"
   ],
   "metadata": {
    "collapsed": false
   }
  },
  {
   "cell_type": "code",
   "execution_count": 10,
   "outputs": [
    {
     "data": {
      "text/plain": "accountNumber                    0\ncustomerId                       0\ncreditLimit                      0\navailableMoney                   0\ntransactionDateTime              0\ntransactionAmount                0\nmerchantName                     0\nacqCountry                    4562\nmerchantCountryCode            724\nposEntryMode                  4054\nposConditionCode               409\nmerchantCategoryCode             0\ncurrentExpDate                   0\naccountOpenDate                  0\ndateOfLastAddressChange          0\ncardCVV                          0\nenteredCVV                       0\ncardLast4Digits                  0\ntransactionType                698\nechoBuffer                  786363\ncurrentBalance                   0\nmerchantCity                786363\nmerchantState               786363\nmerchantZip                 786363\ncardPresent                      0\nposOnPremises               786363\nrecurringAuthInd            786363\nexpirationDateKeyInMatch         0\nisFraud                          0\ndtype: int64"
     },
     "execution_count": 10,
     "metadata": {},
     "output_type": "execute_result"
    }
   ],
   "source": [
    "df.isnull().sum()"
   ],
   "metadata": {
    "collapsed": false,
    "pycharm": {
     "name": "#%%\n"
    }
   }
  },
  {
   "cell_type": "markdown",
   "source": [
    "One can only hope for clean data...\n",
    "\n",
    "Considering our shape dimensions, I can pretty muh remove merchantCity, merchantState, merchantZip, posOnPremises, and recurringAuthInd right off the bat since there are too many missing values to do anything else while remaining accurate.\n",
    "I will also remove any ID related columns because they have no use.\n",
    "\n",
    "I want to keep cardCVV and enteredCVV just in case at the moment as I'm interested to see how many of them differ from each other."
   ],
   "metadata": {
    "collapsed": false
   }
  },
  {
   "cell_type": "code",
   "execution_count": 11,
   "outputs": [
    {
     "data": {
      "text/plain": "        accountNumber  customerId  creditLimit  availableMoney  \\\n0           737265056   737265056         5000         5000.00   \n1           737265056   737265056         5000         5000.00   \n2           737265056   737265056         5000         5000.00   \n3           737265056   737265056         5000         5000.00   \n4           830329091   830329091         5000         5000.00   \n...               ...         ...          ...             ...   \n786358      732852505   732852505        50000        48904.96   \n786359      732852505   732852505        50000        48785.04   \n786360      732852505   732852505        50000        48766.15   \n786361      732852505   732852505        50000        48716.72   \n786362      732852505   732852505        50000        48666.83   \n\n        transactionDateTime  transactionAmount         merchantName  \\\n0       2016-08-13T14:27:32              98.55                 Uber   \n1       2016-10-11T05:05:54              74.51          AMC #191138   \n2       2016-11-08T09:18:39               7.47           Play Store   \n3       2016-12-10T02:14:50               7.47           Play Store   \n4       2016-03-24T21:04:46              71.18  Tim Hortons #947751   \n...                     ...                ...                  ...   \n786358  2016-12-22T18:44:12             119.92                 Lyft   \n786359  2016-12-25T16:20:34              18.89             hulu.com   \n786360  2016-12-27T15:46:24              49.43                 Lyft   \n786361  2016-12-29T00:30:55              49.89          walmart.com   \n786362  2016-12-30T20:10:29              72.18                 Uber   \n\n       acqCountry merchantCountryCode posEntryMode  ...  \\\n0              US                  US           02  ...   \n1              US                  US           09  ...   \n2              US                  US           09  ...   \n3              US                  US           09  ...   \n4              US                  US           02  ...   \n...           ...                 ...          ...  ...   \n786358         US                  US           90  ...   \n786359         US                  US           09  ...   \n786360         US                  US           02  ...   \n786361         US                  US           09  ...   \n786362         US                  US           05  ...   \n\n       dateOfLastAddressChange cardCVV enteredCVV cardLast4Digits  \\\n0                   2015-03-14     414        414            1803   \n1                   2015-03-14     486        486             767   \n2                   2015-03-14     486        486             767   \n3                   2015-03-14     486        486             767   \n4                   2015-08-06     885        885            3143   \n...                        ...     ...        ...             ...   \n786358              2012-08-23     936        936            3783   \n786359              2012-08-23     939        939            3388   \n786360              2012-08-23     936        936            3783   \n786361              2012-08-23     939        939            3388   \n786362              2012-08-23     939        939            3388   \n\n       transactionType  echoBuffer  currentBalance  cardPresent  \\\n0             PURCHASE         NaN            0.00        False   \n1             PURCHASE         NaN            0.00         True   \n2             PURCHASE         NaN            0.00        False   \n3             PURCHASE         NaN            0.00        False   \n4             PURCHASE         NaN            0.00         True   \n...                ...         ...             ...          ...   \n786358        PURCHASE         NaN         1095.04        False   \n786359        PURCHASE         NaN         1214.96        False   \n786360        PURCHASE         NaN         1233.85        False   \n786361        PURCHASE         NaN         1283.28        False   \n786362        PURCHASE         NaN         1333.17        False   \n\n       expirationDateKeyInMatch  isFraud  \n0                         False    False  \n1                         False    False  \n2                         False    False  \n3                         False    False  \n4                         False    False  \n...                         ...      ...  \n786358                    False    False  \n786359                    False    False  \n786360                    False    False  \n786361                    False    False  \n786362                    False    False  \n\n[786363 rows x 24 columns]",
      "text/html": "<div>\n<style scoped>\n    .dataframe tbody tr th:only-of-type {\n        vertical-align: middle;\n    }\n\n    .dataframe tbody tr th {\n        vertical-align: top;\n    }\n\n    .dataframe thead th {\n        text-align: right;\n    }\n</style>\n<table border=\"1\" class=\"dataframe\">\n  <thead>\n    <tr style=\"text-align: right;\">\n      <th></th>\n      <th>accountNumber</th>\n      <th>customerId</th>\n      <th>creditLimit</th>\n      <th>availableMoney</th>\n      <th>transactionDateTime</th>\n      <th>transactionAmount</th>\n      <th>merchantName</th>\n      <th>acqCountry</th>\n      <th>merchantCountryCode</th>\n      <th>posEntryMode</th>\n      <th>...</th>\n      <th>dateOfLastAddressChange</th>\n      <th>cardCVV</th>\n      <th>enteredCVV</th>\n      <th>cardLast4Digits</th>\n      <th>transactionType</th>\n      <th>echoBuffer</th>\n      <th>currentBalance</th>\n      <th>cardPresent</th>\n      <th>expirationDateKeyInMatch</th>\n      <th>isFraud</th>\n    </tr>\n  </thead>\n  <tbody>\n    <tr>\n      <th>0</th>\n      <td>737265056</td>\n      <td>737265056</td>\n      <td>5000</td>\n      <td>5000.00</td>\n      <td>2016-08-13T14:27:32</td>\n      <td>98.55</td>\n      <td>Uber</td>\n      <td>US</td>\n      <td>US</td>\n      <td>02</td>\n      <td>...</td>\n      <td>2015-03-14</td>\n      <td>414</td>\n      <td>414</td>\n      <td>1803</td>\n      <td>PURCHASE</td>\n      <td>NaN</td>\n      <td>0.00</td>\n      <td>False</td>\n      <td>False</td>\n      <td>False</td>\n    </tr>\n    <tr>\n      <th>1</th>\n      <td>737265056</td>\n      <td>737265056</td>\n      <td>5000</td>\n      <td>5000.00</td>\n      <td>2016-10-11T05:05:54</td>\n      <td>74.51</td>\n      <td>AMC #191138</td>\n      <td>US</td>\n      <td>US</td>\n      <td>09</td>\n      <td>...</td>\n      <td>2015-03-14</td>\n      <td>486</td>\n      <td>486</td>\n      <td>767</td>\n      <td>PURCHASE</td>\n      <td>NaN</td>\n      <td>0.00</td>\n      <td>True</td>\n      <td>False</td>\n      <td>False</td>\n    </tr>\n    <tr>\n      <th>2</th>\n      <td>737265056</td>\n      <td>737265056</td>\n      <td>5000</td>\n      <td>5000.00</td>\n      <td>2016-11-08T09:18:39</td>\n      <td>7.47</td>\n      <td>Play Store</td>\n      <td>US</td>\n      <td>US</td>\n      <td>09</td>\n      <td>...</td>\n      <td>2015-03-14</td>\n      <td>486</td>\n      <td>486</td>\n      <td>767</td>\n      <td>PURCHASE</td>\n      <td>NaN</td>\n      <td>0.00</td>\n      <td>False</td>\n      <td>False</td>\n      <td>False</td>\n    </tr>\n    <tr>\n      <th>3</th>\n      <td>737265056</td>\n      <td>737265056</td>\n      <td>5000</td>\n      <td>5000.00</td>\n      <td>2016-12-10T02:14:50</td>\n      <td>7.47</td>\n      <td>Play Store</td>\n      <td>US</td>\n      <td>US</td>\n      <td>09</td>\n      <td>...</td>\n      <td>2015-03-14</td>\n      <td>486</td>\n      <td>486</td>\n      <td>767</td>\n      <td>PURCHASE</td>\n      <td>NaN</td>\n      <td>0.00</td>\n      <td>False</td>\n      <td>False</td>\n      <td>False</td>\n    </tr>\n    <tr>\n      <th>4</th>\n      <td>830329091</td>\n      <td>830329091</td>\n      <td>5000</td>\n      <td>5000.00</td>\n      <td>2016-03-24T21:04:46</td>\n      <td>71.18</td>\n      <td>Tim Hortons #947751</td>\n      <td>US</td>\n      <td>US</td>\n      <td>02</td>\n      <td>...</td>\n      <td>2015-08-06</td>\n      <td>885</td>\n      <td>885</td>\n      <td>3143</td>\n      <td>PURCHASE</td>\n      <td>NaN</td>\n      <td>0.00</td>\n      <td>True</td>\n      <td>False</td>\n      <td>False</td>\n    </tr>\n    <tr>\n      <th>...</th>\n      <td>...</td>\n      <td>...</td>\n      <td>...</td>\n      <td>...</td>\n      <td>...</td>\n      <td>...</td>\n      <td>...</td>\n      <td>...</td>\n      <td>...</td>\n      <td>...</td>\n      <td>...</td>\n      <td>...</td>\n      <td>...</td>\n      <td>...</td>\n      <td>...</td>\n      <td>...</td>\n      <td>...</td>\n      <td>...</td>\n      <td>...</td>\n      <td>...</td>\n      <td>...</td>\n    </tr>\n    <tr>\n      <th>786358</th>\n      <td>732852505</td>\n      <td>732852505</td>\n      <td>50000</td>\n      <td>48904.96</td>\n      <td>2016-12-22T18:44:12</td>\n      <td>119.92</td>\n      <td>Lyft</td>\n      <td>US</td>\n      <td>US</td>\n      <td>90</td>\n      <td>...</td>\n      <td>2012-08-23</td>\n      <td>936</td>\n      <td>936</td>\n      <td>3783</td>\n      <td>PURCHASE</td>\n      <td>NaN</td>\n      <td>1095.04</td>\n      <td>False</td>\n      <td>False</td>\n      <td>False</td>\n    </tr>\n    <tr>\n      <th>786359</th>\n      <td>732852505</td>\n      <td>732852505</td>\n      <td>50000</td>\n      <td>48785.04</td>\n      <td>2016-12-25T16:20:34</td>\n      <td>18.89</td>\n      <td>hulu.com</td>\n      <td>US</td>\n      <td>US</td>\n      <td>09</td>\n      <td>...</td>\n      <td>2012-08-23</td>\n      <td>939</td>\n      <td>939</td>\n      <td>3388</td>\n      <td>PURCHASE</td>\n      <td>NaN</td>\n      <td>1214.96</td>\n      <td>False</td>\n      <td>False</td>\n      <td>False</td>\n    </tr>\n    <tr>\n      <th>786360</th>\n      <td>732852505</td>\n      <td>732852505</td>\n      <td>50000</td>\n      <td>48766.15</td>\n      <td>2016-12-27T15:46:24</td>\n      <td>49.43</td>\n      <td>Lyft</td>\n      <td>US</td>\n      <td>US</td>\n      <td>02</td>\n      <td>...</td>\n      <td>2012-08-23</td>\n      <td>936</td>\n      <td>936</td>\n      <td>3783</td>\n      <td>PURCHASE</td>\n      <td>NaN</td>\n      <td>1233.85</td>\n      <td>False</td>\n      <td>False</td>\n      <td>False</td>\n    </tr>\n    <tr>\n      <th>786361</th>\n      <td>732852505</td>\n      <td>732852505</td>\n      <td>50000</td>\n      <td>48716.72</td>\n      <td>2016-12-29T00:30:55</td>\n      <td>49.89</td>\n      <td>walmart.com</td>\n      <td>US</td>\n      <td>US</td>\n      <td>09</td>\n      <td>...</td>\n      <td>2012-08-23</td>\n      <td>939</td>\n      <td>939</td>\n      <td>3388</td>\n      <td>PURCHASE</td>\n      <td>NaN</td>\n      <td>1283.28</td>\n      <td>False</td>\n      <td>False</td>\n      <td>False</td>\n    </tr>\n    <tr>\n      <th>786362</th>\n      <td>732852505</td>\n      <td>732852505</td>\n      <td>50000</td>\n      <td>48666.83</td>\n      <td>2016-12-30T20:10:29</td>\n      <td>72.18</td>\n      <td>Uber</td>\n      <td>US</td>\n      <td>US</td>\n      <td>05</td>\n      <td>...</td>\n      <td>2012-08-23</td>\n      <td>939</td>\n      <td>939</td>\n      <td>3388</td>\n      <td>PURCHASE</td>\n      <td>NaN</td>\n      <td>1333.17</td>\n      <td>False</td>\n      <td>False</td>\n      <td>False</td>\n    </tr>\n  </tbody>\n</table>\n<p>786363 rows × 24 columns</p>\n</div>"
     },
     "execution_count": 11,
     "metadata": {},
     "output_type": "execute_result"
    }
   ],
   "source": [
    "df.drop(['merchantCity', 'merchantState', 'merchantZip', 'posOnPremises', 'recurringAuthInd'], axis=1, inplace=True)\n",
    "\n",
    "df.isnull().sum()\n",
    "\n",
    "df = df.reset_index(drop=True)\n",
    "\n",
    "df"
   ],
   "metadata": {
    "collapsed": false,
    "pycharm": {
     "name": "#%%\n"
    }
   }
  },
  {
   "cell_type": "code",
   "execution_count": 12,
   "outputs": [],
   "source": [
    "pd.to_pickle(df, 'Data/pickles/clean_data', protocol=4)"
   ],
   "metadata": {
    "collapsed": false,
    "pycharm": {
     "name": "#%%\n"
    }
   }
  }
 ],
 "metadata": {
  "kernelspec": {
   "display_name": "Python 3",
   "language": "python",
   "name": "python3"
  },
  "language_info": {
   "codemirror_mode": {
    "name": "ipython",
    "version": 2
   },
   "file_extension": ".py",
   "mimetype": "text/x-python",
   "name": "python",
   "nbconvert_exporter": "python",
   "pygments_lexer": "ipython2",
   "version": "3.8.3-final"
  }
 },
 "nbformat": 4,
 "nbformat_minor": 0
}