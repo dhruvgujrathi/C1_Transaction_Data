{
 "cells": [
  {
   "cell_type": "markdown",
   "metadata": {
    "collapsed": true,
    "pycharm": {
     "name": "#%% md\n"
    }
   },
   "source": [
    "# Exploring the Dataset"
   ]
  },
  {
   "cell_type": "code",
   "execution_count": 43,
   "outputs": [],
   "source": [
    "import pandas as pd\n",
    "import seaborn as sns\n",
    "import plotly.graph_objs as go\n",
    "\n",
    "import os"
   ],
   "metadata": {
    "collapsed": false,
    "pycharm": {
     "name": "#%%\n"
    }
   }
  },
  {
   "cell_type": "code",
   "execution_count": 44,
   "outputs": [],
   "source": [
    "df_paths = ['Data/pickles/full_data/{}'.format(file) for file in os.listdir('Data/pickles/full_data')]\n",
    "\n",
    "df_paths = sorted(df_paths)"
   ],
   "metadata": {
    "collapsed": false,
    "pycharm": {
     "name": "#%%\n"
    }
   }
  },
  {
   "cell_type": "code",
   "execution_count": 45,
   "outputs": [
    {
     "data": {
      "text/plain": "  accountNumber accountOpenDate acqCountry  availableMoney cardCVV  \\\n0     737265056      2015-03-14         US          5000.0     414   \n1     737265056      2015-03-14         US          5000.0     486   \n2     737265056      2015-03-14         US          5000.0     486   \n3     737265056      2015-03-14         US          5000.0     486   \n4     830329091      2015-08-06         US          5000.0     885   \n\n  cardLast4Digits  cardPresent  creditLimit  currentBalance currentExpDate  \\\n0            1803        False       5000.0             0.0        06/2023   \n1             767         True       5000.0             0.0        02/2024   \n2             767        False       5000.0             0.0        08/2025   \n3             767        False       5000.0             0.0        08/2025   \n4            3143         True       5000.0             0.0        10/2029   \n\n   ...         merchantName merchantState  merchantZip posConditionCode  \\\n0  ...                 Uber           NaN          NaN               01   \n1  ...          AMC #191138           NaN          NaN               01   \n2  ...           Play Store           NaN          NaN               01   \n3  ...           Play Store           NaN          NaN               01   \n4  ...  Tim Hortons #947751           NaN          NaN               01   \n\n   posEntryMode  posOnPremises recurringAuthInd  transactionAmount  \\\n0            02            NaN              NaN              98.55   \n1            09            NaN              NaN              74.51   \n2            09            NaN              NaN               7.47   \n3            09            NaN              NaN               7.47   \n4            02            NaN              NaN              71.18   \n\n   transactionDateTime transactionType  \n0  2016-08-13T14:27:32        PURCHASE  \n1  2016-10-11T05:05:54        PURCHASE  \n2  2016-11-08T09:18:39        PURCHASE  \n3  2016-12-10T02:14:50        PURCHASE  \n4  2016-03-24T21:04:46        PURCHASE  \n\n[5 rows x 29 columns]",
      "text/html": "<div>\n<style scoped>\n    .dataframe tbody tr th:only-of-type {\n        vertical-align: middle;\n    }\n\n    .dataframe tbody tr th {\n        vertical-align: top;\n    }\n\n    .dataframe thead th {\n        text-align: right;\n    }\n</style>\n<table border=\"1\" class=\"dataframe\">\n  <thead>\n    <tr style=\"text-align: right;\">\n      <th></th>\n      <th>accountNumber</th>\n      <th>accountOpenDate</th>\n      <th>acqCountry</th>\n      <th>availableMoney</th>\n      <th>cardCVV</th>\n      <th>cardLast4Digits</th>\n      <th>cardPresent</th>\n      <th>creditLimit</th>\n      <th>currentBalance</th>\n      <th>currentExpDate</th>\n      <th>...</th>\n      <th>merchantName</th>\n      <th>merchantState</th>\n      <th>merchantZip</th>\n      <th>posConditionCode</th>\n      <th>posEntryMode</th>\n      <th>posOnPremises</th>\n      <th>recurringAuthInd</th>\n      <th>transactionAmount</th>\n      <th>transactionDateTime</th>\n      <th>transactionType</th>\n    </tr>\n  </thead>\n  <tbody>\n    <tr>\n      <th>0</th>\n      <td>737265056</td>\n      <td>2015-03-14</td>\n      <td>US</td>\n      <td>5000.0</td>\n      <td>414</td>\n      <td>1803</td>\n      <td>False</td>\n      <td>5000.0</td>\n      <td>0.0</td>\n      <td>06/2023</td>\n      <td>...</td>\n      <td>Uber</td>\n      <td>NaN</td>\n      <td>NaN</td>\n      <td>01</td>\n      <td>02</td>\n      <td>NaN</td>\n      <td>NaN</td>\n      <td>98.55</td>\n      <td>2016-08-13T14:27:32</td>\n      <td>PURCHASE</td>\n    </tr>\n    <tr>\n      <th>1</th>\n      <td>737265056</td>\n      <td>2015-03-14</td>\n      <td>US</td>\n      <td>5000.0</td>\n      <td>486</td>\n      <td>767</td>\n      <td>True</td>\n      <td>5000.0</td>\n      <td>0.0</td>\n      <td>02/2024</td>\n      <td>...</td>\n      <td>AMC #191138</td>\n      <td>NaN</td>\n      <td>NaN</td>\n      <td>01</td>\n      <td>09</td>\n      <td>NaN</td>\n      <td>NaN</td>\n      <td>74.51</td>\n      <td>2016-10-11T05:05:54</td>\n      <td>PURCHASE</td>\n    </tr>\n    <tr>\n      <th>2</th>\n      <td>737265056</td>\n      <td>2015-03-14</td>\n      <td>US</td>\n      <td>5000.0</td>\n      <td>486</td>\n      <td>767</td>\n      <td>False</td>\n      <td>5000.0</td>\n      <td>0.0</td>\n      <td>08/2025</td>\n      <td>...</td>\n      <td>Play Store</td>\n      <td>NaN</td>\n      <td>NaN</td>\n      <td>01</td>\n      <td>09</td>\n      <td>NaN</td>\n      <td>NaN</td>\n      <td>7.47</td>\n      <td>2016-11-08T09:18:39</td>\n      <td>PURCHASE</td>\n    </tr>\n    <tr>\n      <th>3</th>\n      <td>737265056</td>\n      <td>2015-03-14</td>\n      <td>US</td>\n      <td>5000.0</td>\n      <td>486</td>\n      <td>767</td>\n      <td>False</td>\n      <td>5000.0</td>\n      <td>0.0</td>\n      <td>08/2025</td>\n      <td>...</td>\n      <td>Play Store</td>\n      <td>NaN</td>\n      <td>NaN</td>\n      <td>01</td>\n      <td>09</td>\n      <td>NaN</td>\n      <td>NaN</td>\n      <td>7.47</td>\n      <td>2016-12-10T02:14:50</td>\n      <td>PURCHASE</td>\n    </tr>\n    <tr>\n      <th>4</th>\n      <td>830329091</td>\n      <td>2015-08-06</td>\n      <td>US</td>\n      <td>5000.0</td>\n      <td>885</td>\n      <td>3143</td>\n      <td>True</td>\n      <td>5000.0</td>\n      <td>0.0</td>\n      <td>10/2029</td>\n      <td>...</td>\n      <td>Tim Hortons #947751</td>\n      <td>NaN</td>\n      <td>NaN</td>\n      <td>01</td>\n      <td>02</td>\n      <td>NaN</td>\n      <td>NaN</td>\n      <td>71.18</td>\n      <td>2016-03-24T21:04:46</td>\n      <td>PURCHASE</td>\n    </tr>\n  </tbody>\n</table>\n<p>5 rows × 29 columns</p>\n</div>"
     },
     "execution_count": 45,
     "metadata": {},
     "output_type": "execute_result"
    }
   ],
   "source": [
    "df = pd.concat([\n",
    "    pd.read_pickle(df_paths[0]),\n",
    "    pd.read_pickle(df_paths[1]),\n",
    "    pd.read_pickle(df_paths[2]),\n",
    "    pd.read_pickle(df_paths[3])],\n",
    "axis=0)\n",
    "\n",
    "df.head()"
   ],
   "metadata": {
    "collapsed": false,
    "pycharm": {
     "name": "#%%\n"
    }
   }
  },
  {
   "cell_type": "code",
   "execution_count": 46,
   "outputs": [
    {
     "data": {
      "text/plain": "'Dataset Dimensions: 786363x29'"
     },
     "execution_count": 46,
     "metadata": {},
     "output_type": "execute_result"
    }
   ],
   "source": [
    "\"Dataset Dimensions: {}x{}\".format(df.shape[0], df.shape[1])"
   ],
   "metadata": {
    "collapsed": false,
    "pycharm": {
     "name": "#%%\n"
    }
   }
  },
  {
   "cell_type": "markdown",
   "source": [
    "## Checking for nans"
   ],
   "metadata": {
    "collapsed": false
   }
  },
  {
   "cell_type": "code",
   "execution_count": 47,
   "outputs": [
    {
     "data": {
      "text/plain": "accountNumber                    0\naccountOpenDate                  0\nacqCountry                    4562\navailableMoney                   0\ncardCVV                          0\ncardLast4Digits                  0\ncardPresent                      0\ncreditLimit                      0\ncurrentBalance                   0\ncurrentExpDate                   0\ncustomerId                       0\ndateOfLastAddressChange          0\nechoBuffer                  786363\nenteredCVV                       0\nexpirationDateKeyInMatch         0\nisFraud                          0\nmerchantCategoryCode             0\nmerchantCity                786363\nmerchantCountryCode            724\nmerchantName                     0\nmerchantState               786363\nmerchantZip                 786363\nposConditionCode               409\nposEntryMode                  4054\nposOnPremises               786363\nrecurringAuthInd            786363\ntransactionAmount                0\ntransactionDateTime              0\ntransactionType                698\ndtype: int64"
     },
     "execution_count": 47,
     "metadata": {},
     "output_type": "execute_result"
    }
   ],
   "source": [
    "df.isnull().sum()"
   ],
   "metadata": {
    "collapsed": false,
    "pycharm": {
     "name": "#%%\n"
    }
   }
  },
  {
   "cell_type": "markdown",
   "source": [
    "One can only hope for clean data...\n",
    "\n",
    "Considering our shape dimensions, I can pretty muh remove merchantCity, merchantState, merchantZip, posOnPremises, and recurringAuthInd right off the bat since they are too many missing values to do anything else while remaining accurate.\n",
    "I will also remove any ID related columns because they have no use.\n",
    "\n",
    "I want to keep cardCVV and enteredCVV just in case at the moment as I'm curious to see how many of them differ from each other."
   ],
   "metadata": {
    "collapsed": false
   }
  },
  {
   "cell_type": "code",
   "execution_count": 48,
   "outputs": [
    {
     "data": {
      "text/plain": "accountOpenDate                  0\nacqCountry                    4562\navailableMoney                   0\ncardCVV                          0\ncardLast4Digits                  0\ncardPresent                      0\ncreditLimit                      0\ncurrentBalance                   0\ncurrentExpDate                   0\ndateOfLastAddressChange          0\nechoBuffer                  786363\nenteredCVV                       0\nexpirationDateKeyInMatch         0\nisFraud                          0\nmerchantCategoryCode             0\nmerchantCountryCode            724\nmerchantName                     0\nposConditionCode               409\nposEntryMode                  4054\ntransactionAmount                0\ntransactionDateTime              0\ntransactionType                698\ndtype: int64"
     },
     "execution_count": 48,
     "metadata": {},
     "output_type": "execute_result"
    }
   ],
   "source": [
    "df.drop(['merchantCity', 'merchantState', 'merchantZip', 'posOnPremises', 'recurringAuthInd', 'accountNumber', 'customerId'], axis=1, inplace=True)\n",
    "\n",
    "df.isnull().sum()"
   ],
   "metadata": {
    "collapsed": false,
    "pycharm": {
     "name": "#%%\n"
    }
   }
  },
  {
   "cell_type": "code",
   "execution_count": 49,
   "outputs": [],
   "source": [
    "# Since I'll be constantly modifying data as a explore the values,\n",
    "# I'll keep a separate pickle used to represent the current state of the data\n",
    "\n",
    "df_half = df[df.columns[:df.shape[1] // 2]]\n",
    "df_other_half = df[df.columns[df.shape[1] // 2:]]\n",
    "\n",
    "# Splitting it up so I can use the pickles and commit to git\n",
    "\n",
    "pd.to_pickle(df_half, 'Data/pickles/clean_data/clean_data_half_1')\n",
    "pd.to_pickle(df_other_half, 'Data/pickles/clean_data/clean_data_half_2')"
   ],
   "metadata": {
    "collapsed": false,
    "pycharm": {
     "name": "#%%\n"
    }
   }
  }
 ],
 "metadata": {
  "kernelspec": {
   "display_name": "Python 3",
   "language": "python",
   "name": "python3"
  },
  "language_info": {
   "codemirror_mode": {
    "name": "ipython",
    "version": 2
   },
   "file_extension": ".py",
   "mimetype": "text/x-python",
   "name": "python",
   "nbconvert_exporter": "python",
   "pygments_lexer": "ipython2",
   "version": "2.7.6"
  }
 },
 "nbformat": 4,
 "nbformat_minor": 0
}