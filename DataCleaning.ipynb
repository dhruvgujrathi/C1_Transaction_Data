{
 "cells": [
  {
   "cell_type": "markdown",
   "metadata": {
    "collapsed": true,
    "pycharm": {
     "name": "#%% md\n"
    }
   },
   "source": [
    "# Exploring the Dataset"
   ]
  },
  {
   "cell_type": "code",
   "execution_count": 1,
   "outputs": [],
   "source": [
    "import pandas as pd\n",
    "import seaborn as sns\n",
    "import plotly.graph_objs as go\n",
    "\n",
    "import os"
   ],
   "metadata": {
    "collapsed": false,
    "pycharm": {
     "name": "#%%\n"
    }
   }
  },
  {
   "cell_type": "code",
   "execution_count": 2,
   "outputs": [
    {
     "data": {
      "text/plain": "['Data/pickles/full_data/df_1',\n 'Data/pickles/full_data/df_2',\n 'Data/pickles/full_data/df_3',\n 'Data/pickles/full_data/df_4']"
     },
     "execution_count": 2,
     "metadata": {},
     "output_type": "execute_result"
    }
   ],
   "source": [
    "df_paths = ['Data/pickles/full_data/{}'.format(file) for file in os.listdir('Data/pickles/full_data')]\n",
    "\n",
    "sorted(df_paths)"
   ],
   "metadata": {
    "collapsed": false,
    "pycharm": {
     "name": "#%%\n"
    }
   }
  },
  {
   "cell_type": "code",
   "execution_count": 3,
   "outputs": [
    {
     "data": {
      "text/plain": "       accountNumber customerId  creditLimit  availableMoney  \\\n589770     882815134  882815134      50000.0        18749.67   \n589771     882815134  882815134      50000.0        18631.29   \n589772     882815134  882815134      50000.0        18439.68   \n589773     882815134  882815134      50000.0        18341.44   \n589774     882815134  882815134      50000.0        18248.51   \n\n       transactionDateTime    transactionAmount merchantName  \\\n589770             31250.3  2016-10-14T08:21:06       118.38   \n589771             31368.7  2016-10-14T09:06:13       191.61   \n589772             31560.3  2016-10-14T11:32:41        98.24   \n589773             31658.6  2016-10-14T13:13:21        92.93   \n589774             31751.5  2016-10-14T14:31:24       126.89   \n\n                       acqCountry merchantCountryCode posEntryMode  ...  \\\n589770        Rodeway Inn #477327                  US           US  ...   \n589771      Hilton Hotels #123236                  US           US  ...   \n589772        Rodeway Inn #436394                  US           US  ...   \n589773  Renaissance Hotel #809953                  US           US  ...   \n589774         Rodeway Inn #00167                  US           US  ...   \n\n       echoBuffer currentBalance merchantCity merchantState merchantZip  \\\n589770       6580       PURCHASE          NaN           NaN         NaN   \n589771       6580       PURCHASE          NaN           NaN         NaN   \n589772       8502       PURCHASE          NaN           NaN         NaN   \n589773       6580       PURCHASE          NaN           NaN         NaN   \n589774       8502       PURCHASE          NaN           NaN         NaN   \n\n       cardPresent posOnPremises recurringAuthInd expirationDateKeyInMatch  \\\n589770         NaN           NaN              NaN                    False   \n589771         NaN           NaN              NaN                    False   \n589772         NaN           NaN              NaN                    False   \n589773         NaN           NaN              NaN                    False   \n589774         NaN           NaN              NaN                    False   \n\n       isFraud  \n589770   False  \n589771   False  \n589772   False  \n589773   False  \n589774   False  \n\n[5 rows x 29 columns]",
      "text/html": "<div>\n<style scoped>\n    .dataframe tbody tr th:only-of-type {\n        vertical-align: middle;\n    }\n\n    .dataframe tbody tr th {\n        vertical-align: top;\n    }\n\n    .dataframe thead th {\n        text-align: right;\n    }\n</style>\n<table border=\"1\" class=\"dataframe\">\n  <thead>\n    <tr style=\"text-align: right;\">\n      <th></th>\n      <th>accountNumber</th>\n      <th>customerId</th>\n      <th>creditLimit</th>\n      <th>availableMoney</th>\n      <th>transactionDateTime</th>\n      <th>transactionAmount</th>\n      <th>merchantName</th>\n      <th>acqCountry</th>\n      <th>merchantCountryCode</th>\n      <th>posEntryMode</th>\n      <th>...</th>\n      <th>echoBuffer</th>\n      <th>currentBalance</th>\n      <th>merchantCity</th>\n      <th>merchantState</th>\n      <th>merchantZip</th>\n      <th>cardPresent</th>\n      <th>posOnPremises</th>\n      <th>recurringAuthInd</th>\n      <th>expirationDateKeyInMatch</th>\n      <th>isFraud</th>\n    </tr>\n  </thead>\n  <tbody>\n    <tr>\n      <th>589770</th>\n      <td>882815134</td>\n      <td>882815134</td>\n      <td>50000.0</td>\n      <td>18749.67</td>\n      <td>31250.3</td>\n      <td>2016-10-14T08:21:06</td>\n      <td>118.38</td>\n      <td>Rodeway Inn #477327</td>\n      <td>US</td>\n      <td>US</td>\n      <td>...</td>\n      <td>6580</td>\n      <td>PURCHASE</td>\n      <td>NaN</td>\n      <td>NaN</td>\n      <td>NaN</td>\n      <td>NaN</td>\n      <td>NaN</td>\n      <td>NaN</td>\n      <td>False</td>\n      <td>False</td>\n    </tr>\n    <tr>\n      <th>589771</th>\n      <td>882815134</td>\n      <td>882815134</td>\n      <td>50000.0</td>\n      <td>18631.29</td>\n      <td>31368.7</td>\n      <td>2016-10-14T09:06:13</td>\n      <td>191.61</td>\n      <td>Hilton Hotels #123236</td>\n      <td>US</td>\n      <td>US</td>\n      <td>...</td>\n      <td>6580</td>\n      <td>PURCHASE</td>\n      <td>NaN</td>\n      <td>NaN</td>\n      <td>NaN</td>\n      <td>NaN</td>\n      <td>NaN</td>\n      <td>NaN</td>\n      <td>False</td>\n      <td>False</td>\n    </tr>\n    <tr>\n      <th>589772</th>\n      <td>882815134</td>\n      <td>882815134</td>\n      <td>50000.0</td>\n      <td>18439.68</td>\n      <td>31560.3</td>\n      <td>2016-10-14T11:32:41</td>\n      <td>98.24</td>\n      <td>Rodeway Inn #436394</td>\n      <td>US</td>\n      <td>US</td>\n      <td>...</td>\n      <td>8502</td>\n      <td>PURCHASE</td>\n      <td>NaN</td>\n      <td>NaN</td>\n      <td>NaN</td>\n      <td>NaN</td>\n      <td>NaN</td>\n      <td>NaN</td>\n      <td>False</td>\n      <td>False</td>\n    </tr>\n    <tr>\n      <th>589773</th>\n      <td>882815134</td>\n      <td>882815134</td>\n      <td>50000.0</td>\n      <td>18341.44</td>\n      <td>31658.6</td>\n      <td>2016-10-14T13:13:21</td>\n      <td>92.93</td>\n      <td>Renaissance Hotel #809953</td>\n      <td>US</td>\n      <td>US</td>\n      <td>...</td>\n      <td>6580</td>\n      <td>PURCHASE</td>\n      <td>NaN</td>\n      <td>NaN</td>\n      <td>NaN</td>\n      <td>NaN</td>\n      <td>NaN</td>\n      <td>NaN</td>\n      <td>False</td>\n      <td>False</td>\n    </tr>\n    <tr>\n      <th>589774</th>\n      <td>882815134</td>\n      <td>882815134</td>\n      <td>50000.0</td>\n      <td>18248.51</td>\n      <td>31751.5</td>\n      <td>2016-10-14T14:31:24</td>\n      <td>126.89</td>\n      <td>Rodeway Inn #00167</td>\n      <td>US</td>\n      <td>US</td>\n      <td>...</td>\n      <td>8502</td>\n      <td>PURCHASE</td>\n      <td>NaN</td>\n      <td>NaN</td>\n      <td>NaN</td>\n      <td>NaN</td>\n      <td>NaN</td>\n      <td>NaN</td>\n      <td>False</td>\n      <td>False</td>\n    </tr>\n  </tbody>\n</table>\n<p>5 rows × 29 columns</p>\n</div>"
     },
     "execution_count": 3,
     "metadata": {},
     "output_type": "execute_result"
    }
   ],
   "source": [
    "df = pd.concat([\n",
    "    pd.read_pickle(df_paths[0]),\n",
    "    pd.read_pickle(df_paths[1]),\n",
    "    pd.read_pickle(df_paths[2]),\n",
    "    pd.read_pickle(df_paths[3])],\n",
    "axis=0)\n",
    "\n",
    "df.head()"
   ],
   "metadata": {
    "collapsed": false,
    "pycharm": {
     "name": "#%%\n"
    }
   }
  },
  {
   "cell_type": "code",
   "execution_count": 4,
   "outputs": [
    {
     "data": {
      "text/plain": "'Dataset Dimensions: 786363x29'"
     },
     "execution_count": 4,
     "metadata": {},
     "output_type": "execute_result"
    }
   ],
   "source": [
    "\"Dataset Dimensions: {}x{}\".format(df.shape[0], df.shape[1])"
   ],
   "metadata": {
    "collapsed": false,
    "pycharm": {
     "name": "#%%\n"
    }
   }
  },
  {
   "cell_type": "markdown",
   "source": [
    "## Checking for nans"
   ],
   "metadata": {
    "collapsed": false
   }
  },
  {
   "cell_type": "code",
   "execution_count": 5,
   "outputs": [
    {
     "data": {
      "text/plain": "accountNumber                    0\ncustomerId                       0\ncreditLimit                      0\navailableMoney                   0\ntransactionDateTime              0\ntransactionAmount                0\nmerchantName                     0\nacqCountry                       0\nmerchantCountryCode              0\nposEntryMode                     0\nposConditionCode                 0\nmerchantCategoryCode             0\ncurrentExpDate                   0\naccountOpenDate                  0\ndateOfLastAddressChange          0\ncardCVV                          0\nenteredCVV                       1\ncardLast4Digits                 64\ntransactionType               1705\nechoBuffer                   43174\ncurrentBalance              404969\nmerchantCity                767096\nmerchantState               786199\nmerchantZip                 786024\ncardPresent                 362160\nposOnPremises               777410\nrecurringAuthInd            785679\nexpirationDateKeyInMatch     14117\nisFraud                         27\ndtype: int64"
     },
     "execution_count": 5,
     "metadata": {},
     "output_type": "execute_result"
    }
   ],
   "source": [
    "df.isnull().sum()"
   ],
   "metadata": {
    "collapsed": false,
    "pycharm": {
     "name": "#%%\n"
    }
   }
  },
  {
   "cell_type": "markdown",
   "source": [
    "One can only hope for clean data...\n",
    "\n",
    "Considering our shape dimensions, I can pretty muh remove merchantCity, merchantState, merchantZip, posOnPremises, and recurringAuthInd right off the bat since they are too many missing values to do anything else while remaining accurate.\n",
    "I will also remove any ID related columns because they have no use.\n",
    "\n",
    "I want to keep cardCVV and enteredCVV just in case at the moment as I'm curious to see how many of them differ from each other."
   ],
   "metadata": {
    "collapsed": false
   }
  },
  {
   "cell_type": "code",
   "execution_count": 6,
   "outputs": [
    {
     "data": {
      "text/plain": "creditLimit                      0\navailableMoney                   0\ntransactionDateTime              0\ntransactionAmount                0\nmerchantName                     0\nacqCountry                       0\nmerchantCountryCode              0\nposEntryMode                     0\nposConditionCode                 0\nmerchantCategoryCode             0\ncurrentExpDate                   0\naccountOpenDate                  0\ndateOfLastAddressChange          0\ncardCVV                          0\nenteredCVV                       1\ncardLast4Digits                 64\ntransactionType               1705\nechoBuffer                   43174\ncurrentBalance              404969\ncardPresent                 362160\nexpirationDateKeyInMatch     14117\nisFraud                         27\ndtype: int64"
     },
     "execution_count": 6,
     "metadata": {},
     "output_type": "execute_result"
    }
   ],
   "source": [
    "df.drop(['merchantCity', 'merchantState', 'merchantZip', 'posOnPremises', 'recurringAuthInd', 'accountNumber', 'customerId'], axis=1, inplace=True)\n",
    "\n",
    "\n",
    "df.isnull().sum()\n"
   ],
   "metadata": {
    "collapsed": false,
    "pycharm": {
     "name": "#%%\n"
    }
   }
  },
  {
   "cell_type": "code",
   "execution_count": 7,
   "outputs": [],
   "source": [
    "# Since I'll be constantly modifying data as a explore the values,\n",
    "# I'll keep a separate pickle used to represent the current state of the data\n",
    "\n",
    "df_half = df[df.columns[:df.shape[1] // 2]]\n",
    "df_other_half = df[df.columns[df.shape[1] // 2:]]\n",
    "\n",
    "# Splitting it up so I can use the pickles and commit to git\n",
    "\n",
    "pd.to_pickle(df_half, 'Data/pickles/clean_data/clean_data_half_1')\n",
    "pd.to_pickle(df_other_half, 'Data/pickles/clean_data/clean_data_half_2')"
   ],
   "metadata": {
    "collapsed": false,
    "pycharm": {
     "name": "#%%\n"
    }
   }
  }
 ],
 "metadata": {
  "kernelspec": {
   "display_name": "Python 3",
   "language": "python",
   "name": "python3"
  },
  "language_info": {
   "codemirror_mode": {
    "name": "ipython",
    "version": 2
   },
   "file_extension": ".py",
   "mimetype": "text/x-python",
   "name": "python",
   "nbconvert_exporter": "python",
   "pygments_lexer": "ipython2",
   "version": "2.7.6"
  }
 },
 "nbformat": 4,
 "nbformat_minor": 0
}