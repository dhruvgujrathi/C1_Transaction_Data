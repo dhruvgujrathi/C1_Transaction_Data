{
 "cells": [
  {
   "cell_type": "markdown",
   "metadata": {
    "collapsed": true,
    "pycharm": {
     "name": "#%% md\n"
    }
   },
   "source": [
    "# Exploring the Dataset"
   ]
  },
  {
   "cell_type": "code",
   "execution_count": 15,
   "outputs": [],
   "source": [
    "import pandas as pd\n",
    "import seaborn as sns\n",
    "\n",
    "import os"
   ],
   "metadata": {
    "collapsed": false,
    "pycharm": {
     "name": "#%%\n"
    }
   }
  },
  {
   "cell_type": "code",
   "execution_count": 16,
   "outputs": [],
   "source": [
    "df_paths = ['Data/pickles/full_data/{}'.format(file) for file in os.listdir('Data/pickles/full_data')]\n",
    "\n",
    "df_paths = sorted(df_paths)"
   ],
   "metadata": {
    "collapsed": false,
    "pycharm": {
     "name": "#%%\n"
    }
   }
  },
  {
   "cell_type": "code",
   "execution_count": 17,
   "outputs": [
    {
     "output_type": "execute_result",
     "data": {
      "text/plain": "  accountNumber accountOpenDate acqCountry  availableMoney cardCVV  \\\n0     737265056      2015-03-14         US          5000.0     414   \n1     737265056      2015-03-14         US          5000.0     486   \n2     737265056      2015-03-14         US          5000.0     486   \n3     737265056      2015-03-14         US          5000.0     486   \n4     830329091      2015-08-06         US          5000.0     885   \n\n  cardLast4Digits  cardPresent  creditLimit  currentBalance currentExpDate  \\\n0            1803        False       5000.0             0.0        06/2023   \n1             767         True       5000.0             0.0        02/2024   \n2             767        False       5000.0             0.0        08/2025   \n3             767        False       5000.0             0.0        08/2025   \n4            3143         True       5000.0             0.0        10/2029   \n\n   ...         merchantName merchantState  merchantZip posConditionCode  \\\n0  ...                 Uber           NaN          NaN               01   \n1  ...          AMC #191138           NaN          NaN               01   \n2  ...           Play Store           NaN          NaN               01   \n3  ...           Play Store           NaN          NaN               01   \n4  ...  Tim Hortons #947751           NaN          NaN               01   \n\n   posEntryMode  posOnPremises recurringAuthInd  transactionAmount  \\\n0            02            NaN              NaN              98.55   \n1            09            NaN              NaN              74.51   \n2            09            NaN              NaN               7.47   \n3            09            NaN              NaN               7.47   \n4            02            NaN              NaN              71.18   \n\n   transactionDateTime transactionType  \n0  2016-08-13T14:27:32        PURCHASE  \n1  2016-10-11T05:05:54        PURCHASE  \n2  2016-11-08T09:18:39        PURCHASE  \n3  2016-12-10T02:14:50        PURCHASE  \n4  2016-03-24T21:04:46        PURCHASE  \n\n[5 rows x 29 columns]",
      "text/html": "<div>\n<style scoped>\n    .dataframe tbody tr th:only-of-type {\n        vertical-align: middle;\n    }\n\n    .dataframe tbody tr th {\n        vertical-align: top;\n    }\n\n    .dataframe thead th {\n        text-align: right;\n    }\n</style>\n<table border=\"1\" class=\"dataframe\">\n  <thead>\n    <tr style=\"text-align: right;\">\n      <th></th>\n      <th>accountNumber</th>\n      <th>accountOpenDate</th>\n      <th>acqCountry</th>\n      <th>availableMoney</th>\n      <th>cardCVV</th>\n      <th>cardLast4Digits</th>\n      <th>cardPresent</th>\n      <th>creditLimit</th>\n      <th>currentBalance</th>\n      <th>currentExpDate</th>\n      <th>...</th>\n      <th>merchantName</th>\n      <th>merchantState</th>\n      <th>merchantZip</th>\n      <th>posConditionCode</th>\n      <th>posEntryMode</th>\n      <th>posOnPremises</th>\n      <th>recurringAuthInd</th>\n      <th>transactionAmount</th>\n      <th>transactionDateTime</th>\n      <th>transactionType</th>\n    </tr>\n  </thead>\n  <tbody>\n    <tr>\n      <th>0</th>\n      <td>737265056</td>\n      <td>2015-03-14</td>\n      <td>US</td>\n      <td>5000.0</td>\n      <td>414</td>\n      <td>1803</td>\n      <td>False</td>\n      <td>5000.0</td>\n      <td>0.0</td>\n      <td>06/2023</td>\n      <td>...</td>\n      <td>Uber</td>\n      <td>NaN</td>\n      <td>NaN</td>\n      <td>01</td>\n      <td>02</td>\n      <td>NaN</td>\n      <td>NaN</td>\n      <td>98.55</td>\n      <td>2016-08-13T14:27:32</td>\n      <td>PURCHASE</td>\n    </tr>\n    <tr>\n      <th>1</th>\n      <td>737265056</td>\n      <td>2015-03-14</td>\n      <td>US</td>\n      <td>5000.0</td>\n      <td>486</td>\n      <td>767</td>\n      <td>True</td>\n      <td>5000.0</td>\n      <td>0.0</td>\n      <td>02/2024</td>\n      <td>...</td>\n      <td>AMC #191138</td>\n      <td>NaN</td>\n      <td>NaN</td>\n      <td>01</td>\n      <td>09</td>\n      <td>NaN</td>\n      <td>NaN</td>\n      <td>74.51</td>\n      <td>2016-10-11T05:05:54</td>\n      <td>PURCHASE</td>\n    </tr>\n    <tr>\n      <th>2</th>\n      <td>737265056</td>\n      <td>2015-03-14</td>\n      <td>US</td>\n      <td>5000.0</td>\n      <td>486</td>\n      <td>767</td>\n      <td>False</td>\n      <td>5000.0</td>\n      <td>0.0</td>\n      <td>08/2025</td>\n      <td>...</td>\n      <td>Play Store</td>\n      <td>NaN</td>\n      <td>NaN</td>\n      <td>01</td>\n      <td>09</td>\n      <td>NaN</td>\n      <td>NaN</td>\n      <td>7.47</td>\n      <td>2016-11-08T09:18:39</td>\n      <td>PURCHASE</td>\n    </tr>\n    <tr>\n      <th>3</th>\n      <td>737265056</td>\n      <td>2015-03-14</td>\n      <td>US</td>\n      <td>5000.0</td>\n      <td>486</td>\n      <td>767</td>\n      <td>False</td>\n      <td>5000.0</td>\n      <td>0.0</td>\n      <td>08/2025</td>\n      <td>...</td>\n      <td>Play Store</td>\n      <td>NaN</td>\n      <td>NaN</td>\n      <td>01</td>\n      <td>09</td>\n      <td>NaN</td>\n      <td>NaN</td>\n      <td>7.47</td>\n      <td>2016-12-10T02:14:50</td>\n      <td>PURCHASE</td>\n    </tr>\n    <tr>\n      <th>4</th>\n      <td>830329091</td>\n      <td>2015-08-06</td>\n      <td>US</td>\n      <td>5000.0</td>\n      <td>885</td>\n      <td>3143</td>\n      <td>True</td>\n      <td>5000.0</td>\n      <td>0.0</td>\n      <td>10/2029</td>\n      <td>...</td>\n      <td>Tim Hortons #947751</td>\n      <td>NaN</td>\n      <td>NaN</td>\n      <td>01</td>\n      <td>02</td>\n      <td>NaN</td>\n      <td>NaN</td>\n      <td>71.18</td>\n      <td>2016-03-24T21:04:46</td>\n      <td>PURCHASE</td>\n    </tr>\n  </tbody>\n</table>\n<p>5 rows × 29 columns</p>\n</div>"
     },
     "metadata": {},
     "execution_count": 17
    }
   ],
   "source": [
    "df = pd.concat([\n",
    "    pd.read_pickle(df_paths[0]),\n",
    "    pd.read_pickle(df_paths[1]),\n",
    "    pd.read_pickle(df_paths[2]),\n",
    "    pd.read_pickle(df_paths[3])],\n",
    "axis=0)\n",
    "\n",
    "df.head()"
   ],
   "metadata": {
    "collapsed": false,
    "pycharm": {
     "name": "#%%\n"
    }
   }
  },
  {
   "cell_type": "code",
   "execution_count": 10,
   "outputs": [
    {
     "output_type": "execute_result",
     "data": {
      "text/plain": "'Dataset Dimensions: 786363x24'"
     },
     "metadata": {},
     "execution_count": 10
    }
   ],
   "source": [
    "\"Dataset Dimensions: {}x{}\".format(df.shape[0], df.shape[1])"
   ],
   "metadata": {
    "collapsed": false,
    "pycharm": {
     "name": "#%%\n"
    }
   }
  },
  {
   "cell_type": "markdown",
   "source": [
    "## Checking for nans"
   ],
   "metadata": {
    "collapsed": false
   }
  },
  {
   "cell_type": "code",
   "execution_count": 18,
   "outputs": [
    {
     "output_type": "execute_result",
     "data": {
      "text/plain": "accountNumber                    0\naccountOpenDate                  0\nacqCountry                    4562\navailableMoney                   0\ncardCVV                          0\ncardLast4Digits                  0\ncardPresent                      0\ncreditLimit                      0\ncurrentBalance                   0\ncurrentExpDate                   0\ncustomerId                       0\ndateOfLastAddressChange          0\nechoBuffer                  786363\nenteredCVV                       0\nexpirationDateKeyInMatch         0\nisFraud                          0\nmerchantCategoryCode             0\nmerchantCity                786363\nmerchantCountryCode            724\nmerchantName                     0\nmerchantState               786363\nmerchantZip                 786363\nposConditionCode               409\nposEntryMode                  4054\nposOnPremises               786363\nrecurringAuthInd            786363\ntransactionAmount                0\ntransactionDateTime              0\ntransactionType                698\ndtype: int64"
     },
     "metadata": {},
     "execution_count": 18
    }
   ],
   "source": [
    "df.isnull().sum()"
   ],
   "metadata": {
    "collapsed": false,
    "pycharm": {
     "name": "#%%\n"
    }
   }
  },
  {
   "cell_type": "markdown",
   "source": [
    "One can only hope for clean data...\n",
    "\n",
    "Considering our shape dimensions, I can pretty muh remove merchantCity, merchantState, merchantZip, posOnPremises, and recurringAuthInd right off the bat since they are too many missing values to do anything else while remaining accurate.\n",
    "I will also remove any ID related columns because they have no use.\n",
    "\n",
    "I want to keep cardCVV and enteredCVV just in case at the moment as I'm curious to see how many of them differ from each other."
   ],
   "metadata": {
    "collapsed": false
   }
  },
  {
   "cell_type": "code",
   "execution_count": 19,
   "outputs": [
    {
     "output_type": "execute_result",
     "data": {
      "text/plain": "       accountNumber accountOpenDate acqCountry  availableMoney cardCVV  \\\n0          737265056      2015-03-14         US         5000.00     414   \n1          737265056      2015-03-14         US         5000.00     486   \n2          737265056      2015-03-14         US         5000.00     486   \n3          737265056      2015-03-14         US         5000.00     486   \n4          830329091      2015-08-06         US         5000.00     885   \n...              ...             ...        ...             ...     ...   \n786358     732852505      2012-08-23         US        48904.96     936   \n786359     732852505      2012-08-23         US        48785.04     939   \n786360     732852505      2012-08-23         US        48766.15     936   \n786361     732852505      2012-08-23         US        48716.72     939   \n786362     732852505      2012-08-23         US        48666.83     939   \n\n       cardLast4Digits  cardPresent  creditLimit  currentBalance  \\\n0                 1803        False       5000.0            0.00   \n1                  767         True       5000.0            0.00   \n2                  767        False       5000.0            0.00   \n3                  767        False       5000.0            0.00   \n4                 3143         True       5000.0            0.00   \n...                ...          ...          ...             ...   \n786358            3783        False      50000.0         1095.04   \n786359            3388        False      50000.0         1214.96   \n786360            3783        False      50000.0         1233.85   \n786361            3388        False      50000.0         1283.28   \n786362            3388        False      50000.0         1333.17   \n\n       currentExpDate  ... expirationDateKeyInMatch isFraud  \\\n0             06/2023  ...                    False   False   \n1             02/2024  ...                    False   False   \n2             08/2025  ...                    False   False   \n3             08/2025  ...                    False   False   \n4             10/2029  ...                    False   False   \n...               ...  ...                      ...     ...   \n786358        12/2022  ...                    False   False   \n786359        08/2023  ...                    False   False   \n786360        08/2025  ...                    False   False   \n786361        07/2022  ...                    False   False   \n786362        05/2024  ...                    False   False   \n\n        merchantCategoryCode merchantCountryCode         merchantName  \\\n0                  rideshare                  US                 Uber   \n1              entertainment                  US          AMC #191138   \n2                 mobileapps                  US           Play Store   \n3                 mobileapps                  US           Play Store   \n4                   fastfood                  US  Tim Hortons #947751   \n...                      ...                 ...                  ...   \n786358             rideshare                  US                 Lyft   \n786359  online_subscriptions                  US             hulu.com   \n786360             rideshare                  US                 Lyft   \n786361         online_retail                  US          walmart.com   \n786362             rideshare                  US                 Uber   \n\n        posConditionCode posEntryMode transactionAmount  transactionDateTime  \\\n0                     01           02             98.55  2016-08-13T14:27:32   \n1                     01           09             74.51  2016-10-11T05:05:54   \n2                     01           09              7.47  2016-11-08T09:18:39   \n3                     01           09              7.47  2016-12-10T02:14:50   \n4                     01           02             71.18  2016-03-24T21:04:46   \n...                  ...          ...               ...                  ...   \n786358                01           90            119.92  2016-12-22T18:44:12   \n786359                01           09             18.89  2016-12-25T16:20:34   \n786360                01           02             49.43  2016-12-27T15:46:24   \n786361                99           09             49.89  2016-12-29T00:30:55   \n786362                01           05             72.18  2016-12-30T20:10:29   \n\n       transactionType  \n0             PURCHASE  \n1             PURCHASE  \n2             PURCHASE  \n3             PURCHASE  \n4             PURCHASE  \n...                ...  \n786358        PURCHASE  \n786359        PURCHASE  \n786360        PURCHASE  \n786361        PURCHASE  \n786362        PURCHASE  \n\n[786363 rows x 24 columns]",
      "text/html": "<div>\n<style scoped>\n    .dataframe tbody tr th:only-of-type {\n        vertical-align: middle;\n    }\n\n    .dataframe tbody tr th {\n        vertical-align: top;\n    }\n\n    .dataframe thead th {\n        text-align: right;\n    }\n</style>\n<table border=\"1\" class=\"dataframe\">\n  <thead>\n    <tr style=\"text-align: right;\">\n      <th></th>\n      <th>accountNumber</th>\n      <th>accountOpenDate</th>\n      <th>acqCountry</th>\n      <th>availableMoney</th>\n      <th>cardCVV</th>\n      <th>cardLast4Digits</th>\n      <th>cardPresent</th>\n      <th>creditLimit</th>\n      <th>currentBalance</th>\n      <th>currentExpDate</th>\n      <th>...</th>\n      <th>expirationDateKeyInMatch</th>\n      <th>isFraud</th>\n      <th>merchantCategoryCode</th>\n      <th>merchantCountryCode</th>\n      <th>merchantName</th>\n      <th>posConditionCode</th>\n      <th>posEntryMode</th>\n      <th>transactionAmount</th>\n      <th>transactionDateTime</th>\n      <th>transactionType</th>\n    </tr>\n  </thead>\n  <tbody>\n    <tr>\n      <th>0</th>\n      <td>737265056</td>\n      <td>2015-03-14</td>\n      <td>US</td>\n      <td>5000.00</td>\n      <td>414</td>\n      <td>1803</td>\n      <td>False</td>\n      <td>5000.0</td>\n      <td>0.00</td>\n      <td>06/2023</td>\n      <td>...</td>\n      <td>False</td>\n      <td>False</td>\n      <td>rideshare</td>\n      <td>US</td>\n      <td>Uber</td>\n      <td>01</td>\n      <td>02</td>\n      <td>98.55</td>\n      <td>2016-08-13T14:27:32</td>\n      <td>PURCHASE</td>\n    </tr>\n    <tr>\n      <th>1</th>\n      <td>737265056</td>\n      <td>2015-03-14</td>\n      <td>US</td>\n      <td>5000.00</td>\n      <td>486</td>\n      <td>767</td>\n      <td>True</td>\n      <td>5000.0</td>\n      <td>0.00</td>\n      <td>02/2024</td>\n      <td>...</td>\n      <td>False</td>\n      <td>False</td>\n      <td>entertainment</td>\n      <td>US</td>\n      <td>AMC #191138</td>\n      <td>01</td>\n      <td>09</td>\n      <td>74.51</td>\n      <td>2016-10-11T05:05:54</td>\n      <td>PURCHASE</td>\n    </tr>\n    <tr>\n      <th>2</th>\n      <td>737265056</td>\n      <td>2015-03-14</td>\n      <td>US</td>\n      <td>5000.00</td>\n      <td>486</td>\n      <td>767</td>\n      <td>False</td>\n      <td>5000.0</td>\n      <td>0.00</td>\n      <td>08/2025</td>\n      <td>...</td>\n      <td>False</td>\n      <td>False</td>\n      <td>mobileapps</td>\n      <td>US</td>\n      <td>Play Store</td>\n      <td>01</td>\n      <td>09</td>\n      <td>7.47</td>\n      <td>2016-11-08T09:18:39</td>\n      <td>PURCHASE</td>\n    </tr>\n    <tr>\n      <th>3</th>\n      <td>737265056</td>\n      <td>2015-03-14</td>\n      <td>US</td>\n      <td>5000.00</td>\n      <td>486</td>\n      <td>767</td>\n      <td>False</td>\n      <td>5000.0</td>\n      <td>0.00</td>\n      <td>08/2025</td>\n      <td>...</td>\n      <td>False</td>\n      <td>False</td>\n      <td>mobileapps</td>\n      <td>US</td>\n      <td>Play Store</td>\n      <td>01</td>\n      <td>09</td>\n      <td>7.47</td>\n      <td>2016-12-10T02:14:50</td>\n      <td>PURCHASE</td>\n    </tr>\n    <tr>\n      <th>4</th>\n      <td>830329091</td>\n      <td>2015-08-06</td>\n      <td>US</td>\n      <td>5000.00</td>\n      <td>885</td>\n      <td>3143</td>\n      <td>True</td>\n      <td>5000.0</td>\n      <td>0.00</td>\n      <td>10/2029</td>\n      <td>...</td>\n      <td>False</td>\n      <td>False</td>\n      <td>fastfood</td>\n      <td>US</td>\n      <td>Tim Hortons #947751</td>\n      <td>01</td>\n      <td>02</td>\n      <td>71.18</td>\n      <td>2016-03-24T21:04:46</td>\n      <td>PURCHASE</td>\n    </tr>\n    <tr>\n      <th>...</th>\n      <td>...</td>\n      <td>...</td>\n      <td>...</td>\n      <td>...</td>\n      <td>...</td>\n      <td>...</td>\n      <td>...</td>\n      <td>...</td>\n      <td>...</td>\n      <td>...</td>\n      <td>...</td>\n      <td>...</td>\n      <td>...</td>\n      <td>...</td>\n      <td>...</td>\n      <td>...</td>\n      <td>...</td>\n      <td>...</td>\n      <td>...</td>\n      <td>...</td>\n      <td>...</td>\n    </tr>\n    <tr>\n      <th>786358</th>\n      <td>732852505</td>\n      <td>2012-08-23</td>\n      <td>US</td>\n      <td>48904.96</td>\n      <td>936</td>\n      <td>3783</td>\n      <td>False</td>\n      <td>50000.0</td>\n      <td>1095.04</td>\n      <td>12/2022</td>\n      <td>...</td>\n      <td>False</td>\n      <td>False</td>\n      <td>rideshare</td>\n      <td>US</td>\n      <td>Lyft</td>\n      <td>01</td>\n      <td>90</td>\n      <td>119.92</td>\n      <td>2016-12-22T18:44:12</td>\n      <td>PURCHASE</td>\n    </tr>\n    <tr>\n      <th>786359</th>\n      <td>732852505</td>\n      <td>2012-08-23</td>\n      <td>US</td>\n      <td>48785.04</td>\n      <td>939</td>\n      <td>3388</td>\n      <td>False</td>\n      <td>50000.0</td>\n      <td>1214.96</td>\n      <td>08/2023</td>\n      <td>...</td>\n      <td>False</td>\n      <td>False</td>\n      <td>online_subscriptions</td>\n      <td>US</td>\n      <td>hulu.com</td>\n      <td>01</td>\n      <td>09</td>\n      <td>18.89</td>\n      <td>2016-12-25T16:20:34</td>\n      <td>PURCHASE</td>\n    </tr>\n    <tr>\n      <th>786360</th>\n      <td>732852505</td>\n      <td>2012-08-23</td>\n      <td>US</td>\n      <td>48766.15</td>\n      <td>936</td>\n      <td>3783</td>\n      <td>False</td>\n      <td>50000.0</td>\n      <td>1233.85</td>\n      <td>08/2025</td>\n      <td>...</td>\n      <td>False</td>\n      <td>False</td>\n      <td>rideshare</td>\n      <td>US</td>\n      <td>Lyft</td>\n      <td>01</td>\n      <td>02</td>\n      <td>49.43</td>\n      <td>2016-12-27T15:46:24</td>\n      <td>PURCHASE</td>\n    </tr>\n    <tr>\n      <th>786361</th>\n      <td>732852505</td>\n      <td>2012-08-23</td>\n      <td>US</td>\n      <td>48716.72</td>\n      <td>939</td>\n      <td>3388</td>\n      <td>False</td>\n      <td>50000.0</td>\n      <td>1283.28</td>\n      <td>07/2022</td>\n      <td>...</td>\n      <td>False</td>\n      <td>False</td>\n      <td>online_retail</td>\n      <td>US</td>\n      <td>walmart.com</td>\n      <td>99</td>\n      <td>09</td>\n      <td>49.89</td>\n      <td>2016-12-29T00:30:55</td>\n      <td>PURCHASE</td>\n    </tr>\n    <tr>\n      <th>786362</th>\n      <td>732852505</td>\n      <td>2012-08-23</td>\n      <td>US</td>\n      <td>48666.83</td>\n      <td>939</td>\n      <td>3388</td>\n      <td>False</td>\n      <td>50000.0</td>\n      <td>1333.17</td>\n      <td>05/2024</td>\n      <td>...</td>\n      <td>False</td>\n      <td>False</td>\n      <td>rideshare</td>\n      <td>US</td>\n      <td>Uber</td>\n      <td>01</td>\n      <td>05</td>\n      <td>72.18</td>\n      <td>2016-12-30T20:10:29</td>\n      <td>PURCHASE</td>\n    </tr>\n  </tbody>\n</table>\n<p>786363 rows × 24 columns</p>\n</div>"
     },
     "metadata": {},
     "execution_count": 19
    }
   ],
   "source": [
    "df.drop(['merchantCity', 'merchantState', 'merchantZip', 'posOnPremises', 'recurringAuthInd'], axis=1, inplace=True)\n",
    "\n",
    "df.isnull().sum()\n",
    "\n",
    "df = df.reset_index(drop=True)\n",
    "\n",
    "df"
   ],
   "metadata": {
    "collapsed": false,
    "pycharm": {
     "name": "#%%\n"
    }
   }
  },
  {
   "cell_type": "code",
   "execution_count": 20,
   "outputs": [],
   "source": [
    "# Since I'll be constantly modifying data as a explore the values,\n",
    "# I'll keep a separate pickle used to represent the current state of the data\n",
    "\n",
    "df_half = df[df.columns[:df.shape[1] // 2]]\n",
    "df_other_half = df[df.columns[df.shape[1] // 2:]]\n",
    "\n",
    "# Splitting it up so I can use the pickles and commit to git\n",
    "\n",
    "pd.to_pickle(df_half, 'Data/pickles/clean_data/clean_data_half_1', protocol=4)\n",
    "pd.to_pickle(df_other_half, 'Data/pickles/clean_data/clean_data_half_2', protocol=4)"
   ],
   "metadata": {
    "collapsed": false,
    "pycharm": {
     "name": "#%%\n"
    }
   }
  }
 ],
 "metadata": {
  "kernelspec": {
   "display_name": "Python 3",
   "language": "python",
   "name": "python3"
  },
  "language_info": {
   "codemirror_mode": {
    "name": "ipython",
    "version": 2
   },
   "file_extension": ".py",
   "mimetype": "text/x-python",
   "name": "python",
   "nbconvert_exporter": "python",
   "pygments_lexer": "ipython2",
   "version": "3.8.3-final"
  }
 },
 "nbformat": 4,
 "nbformat_minor": 0
}