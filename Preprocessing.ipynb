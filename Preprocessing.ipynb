{
 "cells": [
  {
   "cell_type": "code",
   "execution_count": 1,
   "outputs": [],
   "source": [
    "import pandas as pd\n",
    "\n",
    "import os, pickle"
   ],
   "metadata": {
    "collapsed": false,
    "pycharm": {
     "name": "#%%\n"
    }
   }
  },
  {
   "cell_type": "code",
   "execution_count": 2,
   "outputs": [],
   "source": [
    "df = pd.read_pickle('Data/pickles/clean_data')\n",
    "\n",
    "df['matchingCVV'] = df['cardCVV'] == df['enteredCVV']\n",
    "\n",
    "for col in ['cardPresent', 'matchingCVV', 'expirationDateKeyInMatch', 'isFraud']:\n",
    "    df[col] = df[col].replace({False: 0, True: 1})\n",
    "\n",
    "df.drop(['echoBuffer',\n",
    "         'cardLast4Digits',\n",
    "         'merchantName',\n",
    "         'accountOpenDate',\n",
    "         'transactionDateTime',\n",
    "         'currentExpDate',\n",
    "         'customerId',\n",
    "         'dateOfLastAddressChange',\n",
    "         'accountNumber',\n",
    "         'enteredCVV',\n",
    "         'cardCVV',\n",
    "         ], inplace=True, axis=1)"
   ],
   "metadata": {
    "collapsed": false,
    "pycharm": {
     "name": "#%%\n"
    }
   }
  },
  {
   "cell_type": "code",
   "execution_count": 3,
   "outputs": [
    {
     "data": {
      "text/plain": "creditLimit                    0\navailableMoney                 0\ntransactionAmount              0\nacqCountry                  4562\nmerchantCountryCode          724\nposEntryMode                4054\nposConditionCode             409\nmerchantCategoryCode           0\ntransactionType              698\ncurrentBalance                 0\ncardPresent                    0\nexpirationDateKeyInMatch       0\nisFraud                        0\nmatchingCVV                    0\ndtype: int64"
     },
     "execution_count": 3,
     "metadata": {},
     "output_type": "execute_result"
    }
   ],
   "source": [
    "# Data I am working with for predictive modeling\n",
    "df.isnull().sum()"
   ],
   "metadata": {
    "collapsed": false,
    "pycharm": {
     "name": "#%%\n"
    }
   }
  },
  {
   "cell_type": "code",
   "execution_count": 4,
   "outputs": [],
   "source": [
    "from sklearn.impute import SimpleImputer\n",
    "from sklearn.model_selection import train_test_split\n",
    "from sklearn.preprocessing import OneHotEncoder\n",
    "from sklearn.pipeline import Pipeline\n",
    "from sklearn.compose import ColumnTransformer\n",
    "from imblearn.under_sampling import RandomUnderSampler"
   ],
   "metadata": {
    "collapsed": false,
    "pycharm": {
     "name": "#%%\n"
    }
   }
  },
  {
   "cell_type": "code",
   "execution_count": 5,
   "outputs": [
    {
     "name": "stdout",
     "output_type": "stream",
     "text": [
      "Before Random Under Sampling: (786363, 13)\n",
      "After Random Under Sampling: (24834, 13)\n"
     ]
    }
   ],
   "source": [
    "ros = RandomUnderSampler()\n",
    "y = df['isFraud']\n",
    "df.drop('isFraud', inplace=True, axis=1)\n",
    "new_x, new_y = ros.fit_resample(df, y)\n",
    "print(f'Before Random Under Sampling: {df.shape}')\n",
    "print(f'After Random Under Sampling: {new_x.shape}')"
   ],
   "metadata": {
    "collapsed": false,
    "pycharm": {
     "name": "#%%\n"
    }
   }
  },
  {
   "cell_type": "code",
   "execution_count": null,
   "outputs": [],
   "source": [
    "x_train, x_test, y_train, y_test = train_test_split(new_x, new_y)\n",
    "\n",
    "pipeline = ColumnTransformer([\n",
    "    ('cat_pipe', Pipeline([\n",
    "        ('cat_imputer', SimpleImputer(strategy='most_frequent')),\n",
    "        ('one_hot', OneHotEncoder(handle_unknown='ignore'))\n",
    "    ]),\n",
    "     ['merchantCountryCode',\n",
    "      'merchantCategoryCode',\n",
    "      'posConditionCode',\n",
    "      'posEntryMode',\n",
    "      'transactionType',\n",
    "      'acqCountry']),\n",
    "], remainder='passthrough')\n",
    "\n",
    "remaining_columns = [x for x in df.columns if x not in ['merchantCountryCode',\n",
    "      'merchantCategoryCode',\n",
    "      'posConditionCode',\n",
    "      'posEntryMode',\n",
    "      'transactionType',\n",
    "      'acqCountry']]\n",
    "\n",
    "x_train = pipeline.fit_transform(x_train)\n",
    "x_test = pipeline.transform(x_test)\n",
    "\n",
    "clustered_preproc_data = pipeline.fit_transform(df).todense()\n",
    "\n",
    "remaining_columns = list(pipeline.named_transformers_['cat_pipe']['one_hot'].get_feature_names()) + remaining_columns\n",
    "\n",
    "clustering_data = pd.DataFrame(clustered_preproc_data, columns=remaining_columns)\n",
    "clustering_data['isFraud'] = y\n",
    "\n",
    "clustering_data.to_pickle('Data/pickles/clustering_data', protocol=4)\n",
    "\n",
    "print(x_train.shape)\n",
    "\n",
    "data = {'x_train': x_train, 'x_test': x_test, 'y_train': y_train, 'y_test': y_test}\n",
    "with open('Data/pickles/preproc_data', 'wb') as file:\n",
    "    pickle.dump(data, file, protocol=4)"
   ],
   "metadata": {
    "collapsed": false,
    "pycharm": {
     "name": "#%%\n",
     "is_executing": true
    }
   }
  },
  {
   "cell_type": "markdown",
   "source": [
    "* Dimensions grew larger due to one hot encoding, but it is not a significant increase since most features did not have many unique values"
   ],
   "metadata": {
    "collapsed": false,
    "pycharm": {
     "name": "#%% md\n"
    }
   }
  }
 ],
 "metadata": {
  "kernelspec": {
   "name": "python38364bitdsconda96d39e0d4b1a4db8b1ff10b442a22646",
   "language": "python",
   "display_name": "Python 3.8.3 64-bit ('DS': conda)"
  },
  "language_info": {
   "codemirror_mode": {
    "name": "ipython",
    "version": 2
   },
   "file_extension": ".py",
   "mimetype": "text/x-python",
   "name": "python",
   "nbconvert_exporter": "python",
   "pygments_lexer": "ipython2",
   "version": "2.7.6"
  }
 },
 "nbformat": 4,
 "nbformat_minor": 0
}