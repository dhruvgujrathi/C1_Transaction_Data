{
 "cells": [
  {
   "cell_type": "code",
   "execution_count": 57,
   "outputs": [],
   "source": [
    "import pandas as pd\n",
    "\n",
    "import os, pickle"
   ],
   "metadata": {
    "collapsed": false,
    "pycharm": {
     "name": "#%%\n"
    }
   }
  },
  {
   "cell_type": "code",
   "execution_count": 58,
   "outputs": [],
   "source": [
    "df_paths = ['Data/pickles/clean_data/{}'.format(file) for file in os.listdir('Data/pickles/clean_data')]"
   ],
   "metadata": {
    "collapsed": false,
    "pycharm": {
     "name": "#%%\n"
    }
   }
  },
  {
   "cell_type": "code",
   "execution_count": 59,
   "outputs": [],
   "source": [
    "df = pd.concat([\n",
    "    pd.read_pickle(df_paths[0]),\n",
    "    pd.read_pickle(df_paths[1])],\n",
    "axis=1)\n",
    "\n",
    "df['mismatchingCVV'] = df['cardCVV'] == df['enteredCVV']\n",
    "\n",
    "df.drop(['echoBuffer',\n",
    "         'cardLast4Digits',\n",
    "         'accountOpenDate',\n",
    "         'transactionDateTime',\n",
    "         'currentExpDate',\n",
    "         'customerId',\n",
    "         'dateOfLastAddressChange',\n",
    "         'accountNumber',\n",
    "         'enteredCVV',\n",
    "         'cardCVV',\n",
    "         ], inplace=True, axis=1)"
   ],
   "metadata": {
    "collapsed": false,
    "pycharm": {
     "name": "#%%\n"
    }
   }
  },
  {
   "cell_type": "code",
   "execution_count": 60,
   "outputs": [
    {
     "data": {
      "text/plain": "expirationDateKeyInMatch       0\nisFraud                        0\nmerchantCategoryCode           0\nmerchantCountryCode          724\nmerchantName                   0\nposConditionCode             409\nposEntryMode                4054\ntransactionAmount              0\ntransactionType              698\nacqCountry                  4562\navailableMoney                 0\ncardPresent                    0\ncreditLimit                    0\ncurrentBalance                 0\nmismatchingCVV                 0\ndtype: int64"
     },
     "execution_count": 60,
     "metadata": {},
     "output_type": "execute_result"
    }
   ],
   "source": [
    "# Data I am working with for predictive modeling\n",
    "df.isnull().sum()"
   ],
   "metadata": {
    "collapsed": false,
    "pycharm": {
     "name": "#%%\n"
    }
   }
  },
  {
   "cell_type": "code",
   "execution_count": 61,
   "outputs": [],
   "source": [
    "from sklearn.impute import SimpleImputer\n",
    "from sklearn.model_selection import train_test_split\n",
    "from sklearn.preprocessing import OneHotEncoder\n",
    "from sklearn.pipeline import Pipeline\n",
    "from sklearn.compose import ColumnTransformer\n",
    "from imblearn.under_sampling import RandomUnderSampler"
   ],
   "metadata": {
    "collapsed": false,
    "pycharm": {
     "name": "#%%\n"
    }
   }
  },
  {
   "cell_type": "code",
   "execution_count": 62,
   "outputs": [],
   "source": [
    "# Changing True and False to 1 and 0\n",
    "df['isFraud'].replace({True: 1, False: 0}, inplace=True)"
   ],
   "metadata": {
    "collapsed": false,
    "pycharm": {
     "name": "#%%\n"
    }
   }
  },
  {
   "cell_type": "code",
   "execution_count": 63,
   "outputs": [
    {
     "name": "stdout",
     "output_type": "stream",
     "text": [
      "Before Random Under Sampling: (786363, 14)\n",
      "After Random Under Sampling: (24834, 14)\n"
     ]
    }
   ],
   "source": [
    "ros = RandomUnderSampler()\n",
    "y = df['isFraud']\n",
    "df.drop('isFraud', inplace=True, axis=1)\n",
    "new_x, new_y = ros.fit_resample(df, y)\n",
    "print(f'Before Random Under Sampling: {df.shape}')\n",
    "print(f'After Random Under Sampling: {new_x.shape}')"
   ],
   "metadata": {
    "collapsed": false,
    "pycharm": {
     "name": "#%%\n"
    }
   }
  },
  {
   "cell_type": "code",
   "execution_count": 64,
   "outputs": [
    {
     "name": "stdout",
     "output_type": "stream",
     "text": [
      "(18625, 31)\n"
     ]
    }
   ],
   "source": [
    "x_train, x_test, y_train, y_test = train_test_split(new_x, new_y)\n",
    "\n",
    "pipeline = ColumnTransformer([\n",
    "    ('cat_pipe', Pipeline([\n",
    "        ('cat_imputer', SimpleImputer(strategy='most_frequent')),\n",
    "        ('one_hot', OneHotEncoder(handle_unknown='ignore'))\n",
    "    ]),\n",
    "     ['merchantCountryCode',\n",
    "      'posConditionCode',\n",
    "      'posEntryMode',\n",
    "      'transactionType',\n",
    "      'acqCountry',\n",
    "      'cardPresent',\n",
    "      'mismatchingCVV',\n",
    "      'expirationDateKeyInMatch']),\n",
    "], remainder='passthrough')\n",
    "\n",
    "x_train = pipeline.fit_transform(x_train)\n",
    "x_test = pipeline.transform(x_test)\n",
    "\n",
    "print(x_train.shape)\n",
    "\n",
    "data = {'x_train': x_train, 'x_test': x_test, 'y_train': y_train, 'y_test': y_test}\n",
    "with open('Data/pickles/preprocessed_data/preproc_data', 'wb') as file:\n",
    "    pickle.dump(data, file, protocol=4)"
   ],
   "metadata": {
    "collapsed": false,
    "pycharm": {
     "name": "#%%\n"
    }
   }
  },
  {
   "cell_type": "markdown",
   "source": [
    "* Dimensions grew larger due to one hot encoding, but it is not a significant increase since most features did not have many unique values"
   ],
   "metadata": {
    "collapsed": false,
    "pycharm": {
     "name": "#%% md\n"
    }
   }
  }
 ],
 "metadata": {
  "kernelspec": {
   "display_name": "Python 3",
   "language": "python",
   "name": "python3"
  },
  "language_info": {
   "codemirror_mode": {
    "name": "ipython",
    "version": 2
   },
   "file_extension": ".py",
   "mimetype": "text/x-python",
   "name": "python",
   "nbconvert_exporter": "python",
   "pygments_lexer": "ipython2",
   "version": "2.7.6"
  }
 },
 "nbformat": 4,
 "nbformat_minor": 0
}