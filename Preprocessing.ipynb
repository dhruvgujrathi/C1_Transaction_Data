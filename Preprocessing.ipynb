{
 "cells": [
  {
   "cell_type": "code",
   "execution_count": 8,
   "outputs": [],
   "source": [
    "import pandas as pd\n",
    "\n",
    "import os, pickle"
   ],
   "metadata": {
    "collapsed": false,
    "pycharm": {
     "name": "#%%\n"
    }
   }
  },
  {
   "cell_type": "code",
   "execution_count": 9,
   "outputs": [],
   "source": [
    "df = pd.read_pickle('Data/pickles/clean_data')\n",
    "\n",
    "df['mismatchingCVV'] = df['cardCVV'] == df['enteredCVV']\n",
    "\n",
    "df.drop(['echoBuffer',\n",
    "         'cardLast4Digits',\n",
    "         'merchantName',\n",
    "         'accountOpenDate',\n",
    "         'transactionDateTime',\n",
    "         'currentExpDate',\n",
    "         'customerId',\n",
    "         'dateOfLastAddressChange',\n",
    "         'accountNumber',\n",
    "         'enteredCVV',\n",
    "         'cardCVV',\n",
    "         ], inplace=True, axis=1)"
   ],
   "metadata": {
    "collapsed": false,
    "pycharm": {
     "name": "#%%\n"
    }
   }
  },
  {
   "cell_type": "code",
   "execution_count": 10,
   "outputs": [
    {
     "data": {
      "text/plain": "acqCountry                  4562\navailableMoney                 0\ncardPresent                    0\ncreditLimit                    0\ncurrentBalance                 0\nexpirationDateKeyInMatch       0\nisFraud                        0\nmerchantCategoryCode           0\nmerchantCountryCode          724\nposConditionCode             409\nposEntryMode                4054\ntransactionAmount              0\ntransactionType              698\nmismatchingCVV                 0\ndtype: int64"
     },
     "execution_count": 10,
     "metadata": {},
     "output_type": "execute_result"
    }
   ],
   "source": [
    "# Data I am working with for predictive modeling\n",
    "df.isnull().sum()"
   ],
   "metadata": {
    "collapsed": false,
    "pycharm": {
     "name": "#%%\n"
    }
   }
  },
  {
   "cell_type": "code",
   "execution_count": 11,
   "outputs": [],
   "source": [
    "from sklearn.impute import SimpleImputer\n",
    "from sklearn.model_selection import train_test_split\n",
    "from sklearn.preprocessing import OneHotEncoder\n",
    "from sklearn.pipeline import Pipeline\n",
    "from sklearn.compose import ColumnTransformer\n",
    "from imblearn.under_sampling import RandomUnderSampler"
   ],
   "metadata": {
    "collapsed": false,
    "pycharm": {
     "name": "#%%\n"
    }
   }
  },
  {
   "cell_type": "code",
   "execution_count": 12,
   "outputs": [],
   "source": [
    "# Changing True and False to 1 and 0\n",
    "df['isFraud'].replace({True: 1, False: 0}, inplace=True)"
   ],
   "metadata": {
    "collapsed": false,
    "pycharm": {
     "name": "#%%\n"
    }
   }
  },
  {
   "cell_type": "code",
   "execution_count": 13,
   "outputs": [
    {
     "name": "stdout",
     "output_type": "stream",
     "text": [
      "Before Random Under Sampling: (786363, 13)\n",
      "After Random Under Sampling: (24834, 13)\n"
     ]
    }
   ],
   "source": [
    "ros = RandomUnderSampler()\n",
    "y = df['isFraud']\n",
    "df.drop('isFraud', inplace=True, axis=1)\n",
    "new_x, new_y = ros.fit_resample(df, y)\n",
    "print(f'Before Random Under Sampling: {df.shape}')\n",
    "print(f'After Random Under Sampling: {new_x.shape}')"
   ],
   "metadata": {
    "collapsed": false,
    "pycharm": {
     "name": "#%%\n"
    }
   }
  },
  {
   "cell_type": "code",
   "execution_count": null,
   "outputs": [],
   "source": [
    "x_train, x_test, y_train, y_test = train_test_split(new_x, new_y)\n",
    "\n",
    "pipeline = ColumnTransformer([\n",
    "    ('cat_pipe', Pipeline([\n",
    "        ('cat_imputer', SimpleImputer(strategy='most_frequent')),\n",
    "        ('one_hot', OneHotEncoder(handle_unknown='ignore'))\n",
    "    ]),\n",
    "     ['merchantCountryCode',\n",
    "      'merchantCategoryCode',\n",
    "      'posConditionCode',\n",
    "      'posEntryMode',\n",
    "      'transactionType',\n",
    "      'acqCountry',\n",
    "      'cardPresent',\n",
    "      'mismatchingCVV',\n",
    "      'expirationDateKeyInMatch']),\n",
    "], remainder='passthrough')\n",
    "\n",
    "x_train = pipeline.fit_transform(x_train)\n",
    "x_test = pipeline.transform(x_test)\n",
    "\n",
    "print(x_train.shape)\n",
    "\n",
    "data = {'x_train': x_train, 'x_test': x_test, 'y_train': y_train, 'y_test': y_test}\n",
    "with open('Data/pickles/preproc_data', 'wb') as file:\n",
    "    pickle.dump(data, file, protocol=4)"
   ],
   "metadata": {
    "collapsed": false,
    "pycharm": {
     "name": "#%%\n"
    }
   }
  },
  {
   "cell_type": "markdown",
   "source": [
    "* Dimensions grew larger due to one hot encoding, but it is not a significant increase since most features did not have many unique values"
   ],
   "metadata": {
    "collapsed": false
   }
  },
  {
   "cell_type": "code",
   "execution_count": 14,
   "outputs": [
    {
     "name": "stdout",
     "output_type": "stream",
     "text": [
      "(18625, 48)\n"
     ]
    }
   ],
   "source": [
    "* Dimensions grew larger due to one hot encoding, but it is not a significant increase since most features did not have many unique values"
   ],
   "metadata": {
    "collapsed": false,
    "pycharm": {
     "name": "#%%\n"
    }
   }
  },
  {
   "cell_type": "markdown",
   "source": [
    "* Dimensions grew larger due to one hot encoding, but it is not a significant increase since most features did not have many unique values"
   ],
   "metadata": {
    "collapsed": false,
    "pycharm": {
     "name": "#%% md\n"
    }
   }
  }
 ],
 "metadata": {
  "kernelspec": {
   "display_name": "Python 3",
   "language": "python",
   "name": "python3"
  },
  "language_info": {
   "codemirror_mode": {
    "name": "ipython",
    "version": 2
   },
   "file_extension": ".py",
   "mimetype": "text/x-python",
   "name": "python",
   "nbconvert_exporter": "python",
   "pygments_lexer": "ipython2",
   "version": "2.7.6"
  }
 },
 "nbformat": 4,
 "nbformat_minor": 0
}