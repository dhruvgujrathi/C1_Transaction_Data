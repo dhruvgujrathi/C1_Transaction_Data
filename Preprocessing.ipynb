{
 "cells": [
  {
   "cell_type": "code",
   "execution_count": 1,
   "outputs": [],
   "source": [
    "import pandas as pd\n",
    "import os"
   ],
   "metadata": {
    "collapsed": false,
    "pycharm": {
     "name": "#%%\n"
    }
   }
  },
  {
   "cell_type": "code",
   "execution_count": 2,
   "outputs": [],
   "source": [
    "df_paths = ['Data/pickles/clean_data/{}'.format(file) for file in os.listdir('Data/pickles/clean_data')]\n",
    "\n",
    "df = pd.concat([\n",
    "    pd.read_pickle(df_paths[0]),\n",
    "    pd.read_pickle(df_paths[1])],\n",
    "axis=1)"
   ],
   "metadata": {
    "collapsed": false,
    "pycharm": {
     "name": "#%%\n"
    }
   }
  },
  {
   "cell_type": "code",
   "execution_count": 3,
   "outputs": [
    {
     "data": {
      "text/plain": "expirationDateKeyInMatch       0\nisFraud                        0\nmerchantCategoryCode           0\nmerchantCountryCode          724\nmerchantName                   0\nposConditionCode             409\nposEntryMode                4054\ntransactionAmount              0\ntransactionType              698\nacqCountry                  4562\navailableMoney                 0\ncardPresent                    0\ncreditLimit                    0\ncurrentBalance                 0\ndtype: int64"
     },
     "execution_count": 3,
     "metadata": {},
     "output_type": "execute_result"
    }
   ],
   "source": [
    "df.drop(['echoBuffer',\n",
    "         'cardLast4Digits',\n",
    "         'accountOpenDate',\n",
    "         'transactionDateTime',\n",
    "         'currentExpDate',\n",
    "         'customerId',\n",
    "         'dateOfLastAddressChange',\n",
    "         'accountNumber',\n",
    "         'enteredCVV',\n",
    "         'cardCVV',\n",
    "         ], inplace=True, axis=1)\n",
    "\n",
    "# Data I am working with for predictive modeling\n",
    "df.isnull().sum()"
   ],
   "metadata": {
    "collapsed": false,
    "pycharm": {
     "name": "#%%\n"
    }
   }
  },
  {
   "cell_type": "code",
   "execution_count": 4,
   "outputs": [],
   "source": [
    "from sklearn.impute import SimpleImputer\n",
    "from sklearn.model_selection import train_test_split\n",
    "from sklearn.preprocessing import OneHotEncoder\n",
    "from sklearn.pipeline import Pipeline\n",
    "from sklearn.compose import ColumnTransformer\n",
    "from imblearn.under_sampling import RandomUnderSampler"
   ],
   "metadata": {
    "collapsed": false,
    "pycharm": {
     "name": "#%%\n"
    }
   }
  },
  {
   "cell_type": "code",
   "execution_count": 5,
   "outputs": [],
   "source": [
    "ros = RandomUnderSampler()\n",
    "y = df['isFraud']\n",
    "df.drop('isFraud', inplace=True, axis=1)\n",
    "new_x, new_y = ros.fit_resample(df, y)"
   ],
   "metadata": {
    "collapsed": false,
    "pycharm": {
     "name": "#%%\n"
    }
   }
  },
  {
   "cell_type": "code",
   "execution_count": 6,
   "outputs": [],
   "source": [
    "x_train, x_test, y_train, y_test = train_test_split(new_x, new_y)\n",
    "\n",
    "pipeline = ColumnTransformer([\n",
    "    ('cat_pipe', Pipeline([\n",
    "        ('cat_imputer', SimpleImputer(strategy='most_frequent')),\n",
    "        ('one_hot', OneHotEncoder(handle_unknown='ignore'))\n",
    "    ]),\n",
    "     ['merchantCountyCode',\n",
    "      'posConditionCode',\n",
    "      'posEntryMode',\n",
    "      'transactionType',\n",
    "      'acqCountry',\n",
    "      '']),\n",
    "], remainder='passthrough')\n",
    "# for col in ['merchantCountyCode', 'posConditionCode', 'posEntryMode']"
   ],
   "metadata": {
    "collapsed": false,
    "pycharm": {
     "name": "#%%\n"
    }
   }
  }
 ],
 "metadata": {
  "kernelspec": {
   "display_name": "Python 3",
   "language": "python",
   "name": "python3"
  },
  "language_info": {
   "codemirror_mode": {
    "name": "ipython",
    "version": 2
   },
   "file_extension": ".py",
   "mimetype": "text/x-python",
   "name": "python",
   "nbconvert_exporter": "python",
   "pygments_lexer": "ipython2",
   "version": "2.7.6"
  }
 },
 "nbformat": 4,
 "nbformat_minor": 0
}