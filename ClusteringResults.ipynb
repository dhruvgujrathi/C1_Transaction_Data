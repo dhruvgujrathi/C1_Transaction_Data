{
 "cells": [
  {
   "cell_type": "code",
   "execution_count": null,
   "metadata": {},
   "outputs": [],
   "source": [
    "import seaborn as sns\n",
    "import matplotlib.pyplot as plt\n",
    "import matplotlib.style as style\n",
    "import pickle\n",
    "import pandas as pd"
   ]
  },
  {
   "cell_type": "code",
   "execution_count": null,
   "metadata": {
    "pycharm": {
     "name": "#%%\n"
    }
   },
   "outputs": [],
   "source": [
    "def generate_multicol_countplot(df, cols, title, ax=None):\n",
    "    sums = []\n",
    "    for col in cols:\n",
    "        sums.append(df[col].sum())\n",
    "    # Removing the x{num}_ that comes with sklearn one hot encode\n",
    "    cols = [col[3:].capitalize() for col in cols if '_' in col]\n",
    "\n",
    "    if ax is None:\n",
    "        sns.barplot(x=sums, y=list(range(len(cols))), orient='h')\n",
    "        plt.yticks(list(range(len(cols))), cols)\n",
    "        plt.title(title)\n",
    "    else:\n",
    "        sns.barplot(x=sums, y=list(range(len(cols))), orient='h', ax=ax)\n",
    "        ax.set_yticklabels(cols)\n",
    "        ax.set_title(title)"
   ]
  },
  {
   "cell_type": "code",
   "execution_count": null,
   "metadata": {
    "pycharm": {
     "name": "#%%\n"
    }
   },
   "outputs": [],
   "source": [
    "plt.figure(figsize=(10,6))\n",
    "style.use('seaborn-poster')\n",
    "sns.set_style('ticks')"
   ]
  },
  {
   "cell_type": "markdown",
   "metadata": {
    "pycharm": {
     "name": "#%% md\n"
    }
   },
   "source": [
    "# Clustering Results\n",
    "## Determining Optimal K\n",
    "* Elbow method"
   ]
  },
  {
   "cell_type": "code",
   "execution_count": null,
   "metadata": {
    "pycharm": {
     "name": "#%%\n"
    }
   },
   "outputs": [],
   "source": [
    "with open('Data/pickles/elbow', 'rb') as file:\n",
    "    clustering_scores = pickle.load(file)"
   ]
  },
  {
   "cell_type": "code",
   "execution_count": null,
   "metadata": {
    "pycharm": {
     "name": "#%%\n"
    }
   },
   "outputs": [],
   "source": [
    "sns.lineplot(x=clustering_scores['clusters'], y=clustering_scores['scores'])\n",
    "plt.xlim(0.5, 10)"
   ]
  },
  {
   "cell_type": "markdown",
   "metadata": {
    "pycharm": {
     "name": "#%% md\n"
    }
   },
   "source": [
    "* Seems that 3 clusters is the optimal number for clusters"
   ]
  },
  {
   "cell_type": "code",
   "execution_count": null,
   "metadata": {
    "pycharm": {
     "name": "#%%\n"
    }
   },
   "outputs": [],
   "source": [
    "df = pd.read_pickle('Data/pickles/clustered_df')\n",
    "print(df.columns)"
   ]
  },
  {
   "cell_type": "code",
   "execution_count": null,
   "metadata": {
    "pycharm": {
     "name": "#%%\n"
    }
   },
   "outputs": [],
   "source": [
    "cluster0_df = df[df['cluster'] == 'cluster_0']\n",
    "cluster1_df = df[df['cluster'] == 'cluster_1']\n",
    "cluster2_df = df[df['cluster'] == 'cluster_2']"
   ]
  },
  {
   "cell_type": "markdown",
   "metadata": {
    "pycharm": {
     "name": "#%% md\n"
    }
   },
   "source": [
    "# Cluster Cardinality\n",
    "Let's see how the data falls into the different clusters"
   ]
  },
  {
   "cell_type": "code",
   "execution_count": null,
   "metadata": {
    "pycharm": {
     "name": "#%%\n"
    },
    "scrolled": true
   },
   "outputs": [],
   "source": [
    "sns.countplot(data=df, x='cluster')"
   ]
  },
  {
   "cell_type": "markdown",
   "metadata": {
    "pycharm": {
     "name": "#%% md\n"
    }
   },
   "source": [
    "* Interesting that a large portion of the data falls into cluster 0\n",
    "* I am hoping that the data in cluster_1 provides something very specific that could lead to some interesting discoveries\n",
    "# Distributions between Clusters"
   ]
  },
  {
   "cell_type": "code",
   "source": [
    "plt.figure(figsize=(20,15))\n",
    "\n",
    "temp_df = df.drop(['x0_CAN', 'x0_MEX', 'x0_PR', 'x0_US', 'x1_airline', 'x1_auto',\n",
    "       'x1_cable/phone', 'x1_entertainment', 'x1_fastfood', 'x1_food',\n",
    "       'x1_food_delivery', 'x1_fuel', 'x1_furniture', 'x1_gym', 'x1_health',\n",
    "       'x1_hotels', 'x1_mobileapps', 'x1_online_gifts', 'x1_online_retail',\n",
    "       'x1_online_subscriptions', 'x1_personal care', 'x1_rideshare',\n",
    "       'x1_subscriptions', 'x2_01', 'x2_08', 'x2_99', 'x3_02', 'x3_05',\n",
    "       'x3_09', 'x3_80', 'x3_90', 'x4_ADDRESS_VERIFICATION', 'x4_PURCHASE',\n",
    "       'x4_REVERSAL', 'x5_CAN', 'x5_MEX', 'x5_PR', 'x5_US', 'matchingCVV',\n",
    "       'isFraud','expirationDateKeyInMatch', 'cardPresent', 'accountNumber'], axis=1)\n",
    "\n",
    "sns.pairplot(data=temp_df, hue='cluster')"
   ],
   "metadata": {
    "collapsed": false,
    "pycharm": {
     "name": "#%%\n"
    }
   },
   "execution_count": null,
   "outputs": []
  },
  {
   "cell_type": "markdown",
   "source": [
    "* Seems the cluster a transaction falls in is dependent on different banking properties/economic status that each customer has\n",
    "\n",
    "It would help to take a closer look at each of the individual features as the scatter plot only gives an idea of how the different clusters differ\n",
    "## Current Balance"
   ],
   "metadata": {
    "collapsed": false,
    "pycharm": {
     "name": "#%% md\n"
    }
   }
  },
  {
   "cell_type": "code",
   "execution_count": 86,
   "outputs": [
    {
     "data": {
      "text/plain": "<matplotlib.legend.Legend at 0x7eff67b5a640>"
     },
     "execution_count": 86,
     "metadata": {},
     "output_type": "execute_result"
    },
    {
     "data": {
      "text/plain": "<Figure size 921.6x633.6 with 1 Axes>",
      "image/png": "[encoded data removed]"
     },
     "metadata": {},
     "output_type": "display_data"
    }
   ],
   "source": [
    "sns.distplot(cluster0_df['currentBalance'], label='cluster_0')\n",
    "sns.distplot(cluster1_df['currentBalance'], label='cluster_1')\n",
    "sns.distplot(cluster2_df['currentBalance'], label='cluster_2')\n",
    "plt.legend()"
   ],
   "metadata": {
    "collapsed": false,
    "pycharm": {
     "name": "#%%\n"
    }
   }
  },
  {
   "cell_type": "markdown",
   "source": [
    "* At first glance, cluster_1 seems to contain people that are wealthier, but in other discoveries I found that one wealthy individual (Account No. 882815134) alone had 11425 transactions and this histogram could be displaying this persons current balance decreasing for a large portion of the graph.\n",
    "    * It's likely that this is the case since you can see the line dip down a little after 10,000 and slowly rise again and then just cruise at a constant rate\n",
    "* As for the other two clusters, it seems that cluster_2 contains more people with larger current balances than cluster_0"
   ],
   "metadata": {
    "collapsed": false,
    "pycharm": {
     "name": "#%% md\n"
    }
   }
  },
  {
   "cell_type": "code",
   "execution_count": 55,
   "outputs": [
    {
     "data": {
      "text/plain": "<Figure size 720x432 with 0 Axes>"
     },
     "metadata": {},
     "output_type": "display_data"
    }
   ],
   "source": [
    "plt.figure(figsize=(10,6))\n",
    "style.use('seaborn-poster')\n",
    "sns.set_style('ticks')"
   ],
   "metadata": {
    "collapsed": false,
    "pycharm": {
     "name": "#%%\n"
    }
   }
  },
  {
   "cell_type": "markdown",
   "metadata": {
    "pycharm": {
     "name": "#%% md\n"
    }
   },
   "source": [
    "# Merchant Category Popularity between Clusters"
   ]
  },
  {
   "cell_type": "code",
   "execution_count": null,
   "outputs": [],
   "source": [
    "fig, ax = plt.subplots(nrows=3, ncols=1, figsize=(10,21))\n",
    "\n",
    "generate_multicol_countplot(cluster0_df, ['x1_airline', 'x1_auto',\n",
    "       'x1_cable/phone', 'x1_entertainment', 'x1_fastfood', 'x1_food',\n",
    "       'x1_food_delivery', 'x1_fuel', 'x1_furniture', 'x1_gym', 'x1_health',\n",
    "       'x1_hotels', 'x1_mobileapps', 'x1_online_gifts', 'x1_online_retail',\n",
    "       'x1_online_subscriptions', 'x1_personal care', 'x1_rideshare',\n",
    "       'x1_subscriptions'], 'Cluster 0', ax=ax[0])\n",
    "\n",
    "generate_multicol_countplot(cluster1_df, ['x1_airline', 'x1_auto',\n",
    "       'x1_cable/phone', 'x1_entertainment', 'x1_fastfood', 'x1_food',\n",
    "       'x1_food_delivery', 'x1_fuel', 'x1_furniture', 'x1_gym', 'x1_health',\n",
    "       'x1_hotels', 'x1_mobileapps', 'x1_online_gifts', 'x1_online_retail',\n",
    "       'x1_online_subscriptions', 'x1_personal care', 'x1_rideshare',\n",
    "       'x1_subscriptions'], 'Cluster 1', ax=ax[1])\n",
    "\n",
    "generate_multicol_countplot(cluster2_df, ['x1_airline', 'x1_auto',\n",
    "       'x1_cable/phone', 'x1_entertainment', 'x1_fastfood', 'x1_food',\n",
    "       'x1_food_delivery', 'x1_fuel', 'x1_furniture', 'x1_gym', 'x1_health',\n",
    "       'x1_hotels', 'x1_mobileapps', 'x1_online_gifts', 'x1_online_retail',\n",
    "       'x1_online_subscriptions', 'x1_personal care', 'x1_rideshare',\n",
    "       'x1_subscriptions'], 'Cluster 2', ax=ax[2])"
   ],
   "metadata": {
    "collapsed": false,
    "pycharm": {
     "name": "#%%\n"
    }
   }
  },
  {
   "cell_type": "markdown",
   "source": [
    "* Cluster 0 and 2 are fairly similar -- cluster 0 just has many more elements\n",
    "* Interesting that the most popular merchant category in cluster 1 is hotel related transactions despite online retail being the most popular among the entire data set\n",
    "* Aside from that, the proportions of the rest of the merchant categories among all clusters seem to be about the same\n",
    "\n",
    "## Exploring Hotel Related Transactions in Cluster 2\n",
    "* I am interested in why there are so many hotel related transactions in cluster 1 in comparison to the rest\n",
    "* My one initial guess is that it's possible that it might be a few people that just had a lot of hotel related transactions -- even so there are a significant amount of transactions, so I doubt it"
   ],
   "metadata": {
    "collapsed": false
   }
  },
  {
   "cell_type": "code",
   "execution_count": null,
   "outputs": [],
   "source": [
    "cluster1_hotel = cluster1_df[cluster1_df['x1_hotels'] == 1]\n",
    "len(cluster1_hotel['accountNumber'].unique())"
   ],
   "metadata": {
    "collapsed": false,
    "pycharm": {
     "name": "#%%\n"
    }
   }
  },
  {
   "cell_type": "markdown",
   "source": [
    "* Interesting as there are only 42 unique accounts in this cluster, but over 12000 hotel related transactions"
   ],
   "metadata": {
    "collapsed": false,
    "pycharm": {
     "name": "#%% md\n"
    }
   }
  },
  {
   "cell_type": "code",
   "execution_count": 87,
   "outputs": [
    {
     "data": {
      "text/plain": "882815134    11425\n650959115      161\n181877220      123\n829582491       82\n769579276       79\n922749190       78\n700725639       73\n585333246       46\n781784171       41\n807819771       28\n501222917       23\n807103120       20\n371832344       19\n288797686       16\n441439342       11\n699537899       10\n462479214        8\n222265414        7\n741550410        7\n286033703        6\n789466098        6\n207335334        5\n205408589        5\n375218159        5\n569236395        4\n724890027        4\n826344097        3\n441184111        3\n575686449        3\n101738384        3\n787110269        2\n372858462        2\n135652205        2\n765396225        2\n585954791        2\n522664093        2\n991432558        2\n258845873        1\n897227769        1\n316447056        1\n175471624        1\n220057198        1\nName: accountNumber, dtype: int64"
     },
     "execution_count": 87,
     "metadata": {},
     "output_type": "execute_result"
    }
   ],
   "source": [
    "cluster1_hotel['accountNumber'].value_counts()"
   ],
   "metadata": {
    "collapsed": false,
    "pycharm": {
     "name": "#%%\n"
    }
   }
  },
  {
   "cell_type": "markdown",
   "source": [
    "* Very interesting that one customer has so many transactions\n",
    "* This answers the question as to why cluster 1 had so many hotel related transactions"
   ],
   "metadata": {
    "collapsed": false,
    "pycharm": {
     "name": "#%% md\n"
    }
   }
  },
  {
   "cell_type": "markdown",
   "source": [
    "# Fradulent Transactions\n",
    "* I am hopeful that there will be some sort of trend in fraudulent transactions found by clustering"
   ],
   "metadata": {
    "collapsed": false,
    "pycharm": {
     "name": "#%% md\n"
    }
   }
  },
  {
   "cell_type": "code",
   "execution_count": 30,
   "outputs": [
    {
     "data": {
      "text/plain": "<matplotlib.axes._subplots.AxesSubplot at 0x7eff7aa09790>"
     },
     "execution_count": 30,
     "metadata": {},
     "output_type": "execute_result"
    },
    {
     "data": {
      "text/plain": "<Figure size 921.6x633.6 with 1 Axes>",
      "image/png": "[encoded data removed]"
     },
     "metadata": {},
     "output_type": "display_data"
    }
   ],
   "source": [
    "sns.countplot(data=df, x='isFraud', hue='cluster')"
   ],
   "metadata": {
    "collapsed": false,
    "pycharm": {
     "name": "#%%\n"
    }
   }
  },
  {
   "cell_type": "markdown",
   "source": [
    "* Does not seem to be the case unfortunately"
   ],
   "metadata": {
    "collapsed": false,
    "pycharm": {
     "name": "#%% md\n"
    }
   }
  }
 ],
 "metadata": {
  "kernelspec": {
   "display_name": "Python 3.8.3 64-bit ('DS': conda)",
   "language": "python",
   "name": "python38364bitdsconda96d39e0d4b1a4db8b1ff10b442a22646"
  },
  "language_info": {
   "codemirror_mode": {
    "name": "ipython",
    "version": 3
   },
   "file_extension": ".py",
   "mimetype": "text/x-python",
   "name": "python",
   "nbconvert_exporter": "python",
   "pygments_lexer": "ipython3",
   "version": "3.8.3"
  }
 },
 "nbformat": 4,
 "nbformat_minor": 1
}