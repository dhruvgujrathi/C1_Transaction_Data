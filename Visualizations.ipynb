{
 "cells": [
  {
   "cell_type": "markdown",
   "metadata": {
    "collapsed": true,
    "pycharm": {
     "name": "#%% md\n"
    }
   },
   "source": [
    "<p style=\"text-align: center\">\n",
    "<h1>\n",
    "Data Visualizations\n",
    "</h1>\n",
    "Discovering as much as I can regarding the data set\n",
    "</p>\n",
    "\n",
    "<br>\n",
    "<img src=\"C1Banner.png\"/>\n",
    "\n"
   ]
  },
  {
   "cell_type": "code",
   "execution_count": 46,
   "metadata": {
    "collapsed": true,
    "pycharm": {
     "name": "#%%\n"
    }
   },
   "outputs": [],
   "source": [
    "import pandas as pd\n",
    "import os\n",
    "import seaborn as sns\n",
    "import matplotlib.pyplot as plt\n",
    "import matplotlib.style as style\n",
    "import numpy as np"
   ]
  },
  {
   "cell_type": "code",
   "execution_count": 47,
   "metadata": {
    "pycharm": {
     "name": "#%%\n"
    }
   },
   "outputs": [
    {
     "data": {
      "text/plain": "<Figure size 720x432 with 0 Axes>"
     },
     "metadata": {},
     "output_type": "display_data"
    }
   ],
   "source": [
    "plt.figure(figsize=(10,6))\n",
    "style.use('seaborn-poster')\n",
    "sns.set_style('ticks')"
   ]
  },
  {
   "cell_type": "code",
   "execution_count": 48,
   "metadata": {
    "pycharm": {
     "name": "#%%\n"
    }
   },
   "outputs": [
    {
     "data": {
      "text/plain": "Index(['echoBuffer', 'enteredCVV', 'expirationDateKeyInMatch', 'isFraud',\n       'merchantCategoryCode', 'merchantCountryCode', 'merchantName',\n       'posConditionCode', 'posEntryMode', 'transactionAmount',\n       'transactionDateTime', 'transactionType', 'accountNumber',\n       'accountOpenDate', 'acqCountry', 'availableMoney', 'cardCVV',\n       'cardLast4Digits', 'cardPresent', 'creditLimit', 'currentBalance',\n       'currentExpDate', 'customerId', 'dateOfLastAddressChange'],\n      dtype='object')"
     },
     "execution_count": 48,
     "metadata": {},
     "output_type": "execute_result"
    }
   ],
   "source": [
    "df_paths = ['Data/pickles/clean_data/{}'.format(file) for file in os.listdir('Data/pickles/clean_data')]\n",
    "\n",
    "df = pd.concat([\n",
    "    pd.read_pickle(df_paths[0]),\n",
    "    pd.read_pickle(df_paths[1])],\n",
    "axis=1)\n",
    "\n",
    "df.columns"
   ]
  },
  {
   "cell_type": "markdown",
   "metadata": {
    "pycharm": {
     "name": "#%% md\n"
    }
   },
   "source": [
    "# Numerical Data\n",
    "## General Idea of Numeric Data Distribution"
   ]
  },
  {
   "cell_type": "code",
   "execution_count": null,
   "metadata": {
    "pycharm": {
     "name": "#%%\n",
     "is_executing": true
    }
   },
   "outputs": [],
   "source": [
    "fig, ax = plt.subplots(nrows=1, ncols=4, figsize=(30,20))\n",
    "\n",
    "numeric_cols = ['creditLimit', 'availableMoney', 'transactionAmount', 'currentBalance']\n",
    "neat_cols = ['Credit Limit', 'Available Money', 'Transaction Amount', 'Current Balance']\n",
    "colors = ['#3C91E6', '#76F7BF', '#34F6F2', '#59C9A5']\n",
    "\n",
    "for i in range(len(numeric_cols)):\n",
    "    sns.boxplot(data=df, x=numeric_cols[i], ax=ax[i], color=colors[i], orient='v')\n",
    "    ax[i].set_xlabel(neat_cols[i], fontsize=25)\n",
    "    ax[i].set_ylabel('')"
   ]
  },
  {
   "cell_type": "markdown",
   "metadata": {
    "pycharm": {
     "name": "#%% md\n"
    }
   },
   "source": [
    "### Credit Limit\n",
    "Some really far outliers at credit limit of 50,000\n",
    "Also does not seem to have a normal distribution\n",
    "### Available Money\n",
    "Appears to be right skewed\n",
    "Interesting to see that available money is so low, I would've expected the general savings to be higher\n",
    "More outliers as money increases, which makes sense\n",
    "### Transaction Amount\n",
    "Right skewed\n",
    "Seems that the general transaction amount is typically low, which makes sense\n",
    "Surprised to see that the maximum transaction amount in this data set is ~2000 -- I expected some larger numbers\n",
    "### Current Balance\n",
    "Right skewed\n",
    "Really interesting again that the usual balance for a bank customer is so low."
   ]
  },
  {
   "cell_type": "code",
   "execution_count": null,
   "outputs": [],
   "source": [
    "fig, ax = plt.subplots(nrows=2, ncols=2, figsize=(20,15))\n",
    "\n",
    "numeric_cols = ['creditLimit', 'availableMoney', 'transactionAmount', 'currentBalance']\n",
    "neat_cols = ['Credit Limit', 'Available Money', 'Transaction Amount', 'Current Balance']\n",
    "colors = ['#3C91E6', '#76F7BF', '#34F6F2', '#59C9A5']\n",
    "counter = 0\n",
    "\n",
    "for i in range(2):\n",
    "    for j in range(2):\n",
    "        sns.distplot(df[numeric_cols[counter]], ax=ax[i][j], color=colors[counter])\n",
    "        ax[i][j].set_xlabel(neat_cols[counter], fontsize=20)\n",
    "        ax[i][j].set_ylabel('')\n",
    "        counter+=1\n",
    "\n",
    "fig.suptitle('Numeric Data Distribution', fontsize=22)\n",
    "fig.subplots_adjust(top=0.95)"
   ],
   "metadata": {
    "collapsed": false,
    "pycharm": {
     "name": "#%%\n",
     "is_executing": true
    }
   }
  },
  {
   "cell_type": "markdown",
   "metadata": {
    "pycharm": {
     "name": "#%% md\n"
    }
   },
   "source": [
    "### Credit Limit\n",
    "The data is messier than initially expected. The distribution is multimodal and a simple transformation will not work.\n",
    "Ideally if I decide to use this feature, an easy solution would be to use a model that doesn't assume gaussian.\n",
    "\n",
    "Makes sense that the distribution is multimodal since it seems like these limit values are predetermined are not random\n",
    "### Available Money\n",
    "Extremely right skewed\n",
    "Seems like an important feature that would probably correlate with many features within in the data set, and a simple boxcox transformation can easily normalize this distribution. I can also remove the outliers at 50000 as well -- if needed.\n",
    "### Transaction Amount\n",
    "Right skewed\n",
    "Behavior of the distribution is really satisfying.\n",
    "Not much else to mention\n",
    "### Current Balance\n",
    "Right skewed\n",
    "Really interesting again that the usual balance for a bank customer is so low.\n",
    "\n",
    "# Categorical Data\n",
    "\n",
    "## isFraud\n",
    "This is an interesting feature that is conveniently formatted in a way that makes it a good target label.\n",
    "While this is only data exploration, I am interested in comparing it to other features to see some differences or similiarities."
   ]
  },
  {
   "cell_type": "code",
   "execution_count": null,
   "outputs": [],
   "source": [
    "fraud_vals = df['isFraud'].value_counts()\n",
    "\n",
    "sns.barplot(x=[0,1], y=fraud_vals)\n",
    "plt.xticks(ticks=[0,1], labels=['False', 'True'])\n",
    "plt.ylabel('Count')"
   ],
   "metadata": {
    "collapsed": false,
    "pycharm": {
     "name": "#%%\n",
     "is_executing": true
    }
   }
  },
  {
   "cell_type": "markdown",
   "source": [
    "Unfortunately the classes are extremely unbalanced. A technique would such as under-sampling would help even out the classes.\n",
    "Although it is good that C1 has a minimal amount of fraudulent transactions"
   ],
   "metadata": {
    "collapsed": false,
    "pycharm": {
     "name": "#%% md\n"
    }
   }
  },
  {
   "cell_type": "code",
   "execution_count": null,
   "outputs": [],
   "source": [
    "sns.violinplot(data=df, y='transactionAmount', x='transactionType', hue='isFraud', split=True)\n",
    "plt.xlabel('Transaction Type')\n",
    "plt.ylabel('Transaction Amount')\n",
    "plt.title('Comparing Transactions between Fraud and Authentic')"
   ],
   "metadata": {
    "collapsed": false,
    "pycharm": {
     "name": "#%%\n",
     "is_executing": true
    }
   }
  },
  {
   "cell_type": "markdown",
   "source": [
    "Interesting that fraudulent transactions are typically larger in the amount of money they contain. This does make sense though since the people committing fraudulent transactions are most likely not buying _Tic-Tacs_.\n",
    "\n",
    "I also find it interesting that fraudulent transactions are more common in Reversal Transactions. It seems as if it is possible that TRF is a more popular technique for committing fraud."
   ],
   "metadata": {
    "collapsed": false,
    "pycharm": {
     "name": "#%% md\n"
    }
   }
  },
  {
   "cell_type": "markdown",
   "source": [
    "# Miscellaneous Discoveries"
   ],
   "metadata": {
    "collapsed": false,
    "pycharm": {
     "name": "#%% md\n"
    }
   }
  },
  {
   "cell_type": "code",
   "execution_count": null,
   "outputs": [],
   "source": [
    "fraud_transactions_only = df[df['isFraud'] == True]\n",
    "\n",
    "top20_fraudulent_accounts = fraud_transactions_only['accountNumber'].value_counts().head(20)\n",
    "sns.barplot(y=list(range(20)), x=top20_fraudulent_accounts.values, orient='h')\n",
    "\n",
    "plt.yticks(ticks=list(range(20)), labels=top20_fraudulent_accounts.index.tolist())\n",
    "plt.ylabel('Account Number')\n",
    "plt.xlabel('Fraudulent Transactions')\n",
    "plt.title('Top 20 Accounts with the Most Fraudulent Transactions')"
   ],
   "metadata": {
    "collapsed": false,
    "pycharm": {
     "name": "#%%\n",
     "is_executing": true
    }
   }
  },
  {
   "cell_type": "markdown",
   "source": [
    "I am intrigued by the account number \"380680241\" as it has a lot of fraudulent transactions"
   ],
   "metadata": {
    "collapsed": false,
    "pycharm": {
     "name": "#%% md\n"
    }
   }
  },
  {
   "cell_type": "code",
   "execution_count": null,
   "outputs": [],
   "source": [
    "fraud_king = top20_fraudulent_accounts.index[0]\n",
    "\n",
    "fraud_king_data = df[(df['accountNumber'] == '380680241') & (df['isFraud'] == True)]\n",
    "fraud_king_top_merchants = fraud_king_data['merchantName'].value_counts()\n",
    "\n",
    "ax = sns.barplot(y=list(range(len(fraud_king_top_merchants))), x=fraud_king_top_merchants.values, orient='h')\n",
    "for p in ax.patches:\n",
    "    width = p.get_width()\n",
    "    ax.text(width+9.5  ,\n",
    "        p.get_y()+p.get_height()/2. + 0.2,\n",
    "        int(width),\n",
    "        ha=\"center\", fontsize=12)\n",
    "\n",
    "plt.yticks(ticks=list(range(len(fraud_king_top_merchants))), labels=fraud_king_top_merchants.index.tolist())\n",
    "plt.xlabel('Amount of Transactions')\n",
    "plt.ylabel('Merchant')\n",
    "plt.title('Most Popular Merchants of Account 380680241')"
   ],
   "metadata": {
    "collapsed": false,
    "pycharm": {
     "name": "#%%\n",
     "is_executing": true
    }
   }
  },
  {
   "cell_type": "markdown",
   "source": [
    "The flower transactions I am unsure of, but it's interesting to see what kind of fraudulent transactions people make.\n",
    "The eCards make sense since that's probably a way to earn the money."
   ],
   "metadata": {
    "collapsed": false,
    "pycharm": {
     "name": "#%% md\n"
    }
   }
  }
 ],
 "metadata": {
  "kernelspec": {
   "display_name": "Python 3",
   "language": "python",
   "name": "python3"
  },
  "language_info": {
   "codemirror_mode": {
    "name": "ipython",
    "version": 3
   },
   "file_extension": ".py",
   "mimetype": "text/x-python",
   "name": "python",
   "nbconvert_exporter": "python",
   "pygments_lexer": "ipython3",
   "version": "3.8.3"
  }
 },
 "nbformat": 4,
 "nbformat_minor": 1
}